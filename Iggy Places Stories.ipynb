{
 "cells": [
  {
   "cell_type": "markdown",
   "metadata": {},
   "source": [
    "# Import Libraries"
   ]
  },
  {
   "cell_type": "code",
   "execution_count": 3,
   "metadata": {},
   "outputs": [],
   "source": [
    "from census import Census\n",
    "from us import states\n",
    "import pandas as pd \n",
    "from sqlalchemy import create_engine\n",
    "import matplotlib.pyplot as plt\n",
    "import geopandas as gpd\n",
    "from shapely import wkt\n",
    "from mpl_toolkits.axes_grid1 import make_axes_locatable\n",
    "%matplotlib notebook"
   ]
  },
  {
   "cell_type": "code",
   "execution_count": 4,
   "metadata": {},
   "outputs": [],
   "source": [
    "engine = create_engine('postgresql://amy@localhost:5432/amy')\n",
    "c = Census(\"be588bd861cbf7e0545af372027fc4980855f07e\")"
   ]
  },
  {
   "cell_type": "markdown",
   "metadata": {},
   "source": [
    "# Parameters"
   ]
  },
  {
   "cell_type": "code",
   "execution_count": 20,
   "metadata": {},
   "outputs": [],
   "source": [
    "# San Francisco, CA\n",
    "fips = states.CA.fips\n",
    "county = '075'\n",
    "prefix = 'sf'\n",
    "distances = 'ca_sanfrancisco_distances'\n",
    "poi = 'ca_sanfrancisco_poi'\n",
    "parcels = 'ca_sanfrancisco_parcels'"
   ]
  },
  {
   "cell_type": "markdown",
   "metadata": {},
   "source": [
    "# Import Census Data"
   ]
  },
  {
   "cell_type": "markdown",
   "metadata": {},
   "source": [
    "## Median Household Income"
   ]
  },
  {
   "cell_type": "code",
   "execution_count": 30,
   "metadata": {
    "scrolled": true
   },
   "outputs": [],
   "source": [
    "# Table B19013: Median HH Income\n",
    "# https://censusreporter.org/tables/B19013\n",
    "\n",
    "data = pd.DataFrame.from_dict(c.acs5.state_county_blockgroup('group(B19013)', '{}'.format(fips), '{}'.format(county), Census.ALL))"
   ]
  },
  {
   "cell_type": "code",
   "execution_count": 6,
   "metadata": {},
   "outputs": [],
   "source": [
    "data.to_sql('{}_household_inc'.format(prefix), con=engine, schema='iggy', if_exists='replace')"
   ]
  },
  {
   "cell_type": "markdown",
   "metadata": {},
   "source": [
    "## Ratio of Income to Poverty Level"
   ]
  },
  {
   "cell_type": "code",
   "execution_count": 31,
   "metadata": {},
   "outputs": [],
   "source": [
    "# Table C17002: Ratio of Income to Poverty Level\n",
    "# https://censusreporter.org/tables/C17002\n",
    "\n",
    "data = pd.DataFrame.from_dict(c.acs5.state_county_blockgroup('group(C17002)', '{}'.format(fips), '{}'.format(county), Census.ALL))"
   ]
  },
  {
   "cell_type": "code",
   "execution_count": 13,
   "metadata": {},
   "outputs": [],
   "source": [
    "data.to_sql('{}_poverty_ratio'.format(prefix), con=engine, schema='iggy', if_exists='replace')"
   ]
  },
  {
   "cell_type": "markdown",
   "metadata": {},
   "source": [
    "## Limited English"
   ]
  },
  {
   "cell_type": "code",
   "execution_count": 57,
   "metadata": {},
   "outputs": [],
   "source": [
    "# Table B16005: Nativity by Language Spoken at Home by Ability to Speak English\n",
    "# https://censusreporter.org/tables/B16005\n",
    "\n",
    "data = pd.DataFrame.from_dict(c.acs5.state_county_blockgroup('group(B16005)', '{}'.format(fips), '{}'.format(county), Census.ALL))"
   ]
  },
  {
   "cell_type": "code",
   "execution_count": 43,
   "metadata": {},
   "outputs": [],
   "source": [
    "data.to_sql('{}_limited_english'.format(prefix), con=engine, schema='iggy', if_exists='replace')"
   ]
  },
  {
   "cell_type": "markdown",
   "metadata": {},
   "source": [
    "## People of Color"
   ]
  },
  {
   "cell_type": "code",
   "execution_count": 59,
   "metadata": {},
   "outputs": [],
   "source": [
    "# Table B03002: Hispanic or Latino Origin by Race\n",
    "# https://censusreporter.org/tables/B03002\n",
    "\n",
    "data = pd.DataFrame.from_dict(c.acs5.state_county_blockgroup('group(B03002)', '{}'.format(fips), '{}'.format(county), Census.ALL))"
   ]
  },
  {
   "cell_type": "code",
   "execution_count": 61,
   "metadata": {},
   "outputs": [],
   "source": [
    "data.to_sql('{}_poc'.format(prefix), con=engine, schema='iggy', if_exists='replace')"
   ]
  },
  {
   "cell_type": "markdown",
   "metadata": {},
   "source": [
    "## Zero Vehicle Households"
   ]
  },
  {
   "cell_type": "code",
   "execution_count": 13,
   "metadata": {},
   "outputs": [],
   "source": [
    "# Table B25044: Tenure by Vehicles Available\n",
    "# https://censusreporter.org/tables/B25044\n",
    "\n",
    "data = pd.DataFrame.from_dict(c.acs5.state_county_blockgroup('group(B25044)', '{}'.format(fips), '{}'.format(county), Census.ALL))"
   ]
  },
  {
   "cell_type": "code",
   "execution_count": 15,
   "metadata": {},
   "outputs": [],
   "source": [
    "data.to_sql('{}_veh'.format(prefix), con=engine, schema='iggy', if_exists='replace')"
   ]
  },
  {
   "cell_type": "markdown",
   "metadata": {},
   "source": [
    "## Seniors 75 Years and Over"
   ]
  },
  {
   "cell_type": "code",
   "execution_count": 64,
   "metadata": {},
   "outputs": [],
   "source": [
    "# Table B01001: Sex by Age\n",
    "# https://censusreporter.org/tables/B01001\n",
    "\n",
    "data = pd.DataFrame.from_dict(c.acs5.state_county_blockgroup('group(B01001)', '{}'.format(fips), '{}'.format(county), Census.ALL))"
   ]
  },
  {
   "cell_type": "code",
   "execution_count": 65,
   "metadata": {},
   "outputs": [],
   "source": [
    "data.to_sql('{}_age'.format(prefix), con=engine, schema='iggy', if_exists='replace')"
   ]
  },
  {
   "cell_type": "markdown",
   "metadata": {},
   "source": [
    "## People with Disability"
   ]
  },
  {
   "cell_type": "code",
   "execution_count": 66,
   "metadata": {},
   "outputs": [],
   "source": [
    "# Table C18108: Age by Number of Disabilities\n",
    "# https://censusreporter.org/tables/C18108\n",
    "\n",
    "data = pd.DataFrame.from_dict(c.acs5.state_county_blockgroup('group(C18108)', '{}'.format(fips), '{}'.format(county), Census.ALL))"
   ]
  },
  {
   "cell_type": "code",
   "execution_count": 67,
   "metadata": {},
   "outputs": [],
   "source": [
    "data.to_sql('{}_disability'.format(prefix), con=engine, schema='iggy', if_exists='replace')"
   ]
  },
  {
   "cell_type": "markdown",
   "metadata": {},
   "source": [
    "## Single-Parent Family"
   ]
  },
  {
   "cell_type": "code",
   "execution_count": 68,
   "metadata": {},
   "outputs": [],
   "source": [
    "# Table B11004: Family Type by Presence and Age of Related Children\n",
    "# https://censusreporter.org/tables/B11004\n",
    "\n",
    "data = pd.DataFrame.from_dict(c.acs5.state_county_blockgroup('group(B11004)', '{}'.format(fips), '{}'.format(county), Census.ALL))"
   ]
  },
  {
   "cell_type": "code",
   "execution_count": 69,
   "metadata": {},
   "outputs": [],
   "source": [
    "data.to_sql('{}_family'.format(prefix), con=engine, schema='iggy', if_exists='replace')"
   ]
  },
  {
   "cell_type": "markdown",
   "metadata": {},
   "source": [
    "## Severely Rent-Burdened Household"
   ]
  },
  {
   "cell_type": "code",
   "execution_count": 70,
   "metadata": {},
   "outputs": [],
   "source": [
    "# Table B25070: Gross Rent as a Percentage of Household Income\n",
    "# https://censusreporter.org/tables/B25070\n",
    "\n",
    "data = pd.DataFrame.from_dict(c.acs5.state_county_blockgroup('group(B25070)', '{}'.format(fips), '{}'.format(county), Census.ALL))"
   ]
  },
  {
   "cell_type": "code",
   "execution_count": 71,
   "metadata": {},
   "outputs": [],
   "source": [
    "data.to_sql('{}_rent_burden'.format(prefix), con=engine, schema='iggy', if_exists='replace')"
   ]
  },
  {
   "cell_type": "markdown",
   "metadata": {},
   "source": [
    "# Create Feature Layer"
   ]
  },
  {
   "cell_type": "code",
   "execution_count": 17,
   "metadata": {},
   "outputs": [
    {
     "data": {
      "text/plain": [
       "<sqlalchemy.engine.result.ResultProxy at 0x7fd1c236eb20>"
      ]
     },
     "execution_count": 17,
     "metadata": {},
     "output_type": "execute_result"
    }
   ],
   "source": [
    "query = \"\"\"\n",
    "    DROP TABLE IF EXISTS iggy.{0}_feature_layer;\n",
    "    CREATE TABLE iggy.{0}_feature_layer AS (\n",
    "        WITH low_inc AS (\n",
    "            select DISTINCT \"GEO_ID\"\n",
    "            , split_part(\"GEO_ID\",'US',2)::VARCHAR as geoid \n",
    "            , \"C17002_001E\" - \"C17002_008E\" as low_inc\n",
    "            , (\"C17002_001E\" - \"C17002_008E\")/\"C17002_001E\"::FLOAT as perc_low_inc\n",
    "            from iggy.sf_poverty_ratio spr \n",
    "            where 1=1\n",
    "            and \"C17002_001E\" > 0\n",
    "        )\n",
    "        , older AS (\n",
    "            select DISTINCT \"GEO_ID\"\n",
    "            , split_part(\"GEO_ID\",'US',2)::VARCHAR as geoid \n",
    "            , \"B01001_023E\" + \"B01001_024E\" + \"B01001_025E\" + \"B01001_047E\" + \"B01001_048E\" + \"B01001_049E\" \n",
    "                as older_75\n",
    "            , (\"B01001_023E\" + \"B01001_024E\" + \"B01001_025E\" + \"B01001_047E\" + \"B01001_048E\" + \"B01001_049E\" )/\n",
    "                \"B01001_001E\"::FLOAT as perc_older\n",
    "            from iggy.sf_age sa \n",
    "            where 1=1\n",
    "            and \"B01001_001E\" > 0\n",
    "        )\n",
    "        , veh AS (\n",
    "            select DISTINCT \"GEO_ID\"\n",
    "            , split_part(\"GEO_ID\",'US',2)::VARCHAR as geoid \n",
    "            , \"B25044_003E\" + \"B25044_010E\" as zero_veh\n",
    "            , (\"B25044_003E\" + \"B25044_010E\") / \"B25044_001E\"::FLOAT as perc_zero_veh\n",
    "            from iggy.sf_veh sv \n",
    "            where 1=1\n",
    "            and \"B25044_001E\" > 0\n",
    "        )\n",
    "        SELECT c.geoid\n",
    "        , c.geom\n",
    "        , o.older_75\n",
    "        , o.perc_older\n",
    "        , l.low_inc\n",
    "        , l.perc_low_inc\n",
    "        , v.zero_veh\n",
    "        , v.perc_zero_veh\n",
    "        , CASE WHEN l.perc_low_inc >= 0.3 AND o.perc_older >= .10 AND v.perc_zero_veh >= .15 \n",
    "            THEN 1 ELSE 0 END as priority_area\n",
    "        FROM cbg_california c\n",
    "        LEFT JOIN older o \n",
    "            ON o.geoid = c.geoid\n",
    "        LEFT JOIN low_inc l \n",
    "            ON l.geoid = c.geoid\n",
    "        LEFT JOIN veh v\n",
    "            ON v.geoid = c.geoid\n",
    "        WHERE 1=1\n",
    "        AND c.countyfp = '{1}'\n",
    "    );\n",
    "\"\"\".format(prefix, county)\n",
    "\n",
    "engine.execute(query)"
   ]
  },
  {
   "cell_type": "markdown",
   "metadata": {},
   "source": [
    "# Outside CBG"
   ]
  },
  {
   "cell_type": "code",
   "execution_count": 58,
   "metadata": {},
   "outputs": [
    {
     "data": {
      "text/plain": [
       "<sqlalchemy.engine.result.ResultProxy at 0x7fd1c5bb7d30>"
      ]
     },
     "execution_count": 58,
     "metadata": {},
     "output_type": "execute_result"
    }
   ],
   "source": [
    "query = \"\"\"\n",
    "    DROP TABLE IF EXISTS iggy.{0}_outside_cbg;\n",
    "    CREATE TABLE iggy.{0}_outside_cbg AS (\n",
    "        select distinct p.\"_id\" \n",
    "        , ST_setSRID(p.\"_geometry\", 4326) as geom\n",
    "        , p.cbg \n",
    "        from iggy.{1} d \n",
    "        left join iggy.{2} p \n",
    "            on p.\"_id\" = d.id \n",
    "        left join iggy.{3} poi \n",
    "            on poi._source_id  = d.\"_source_id\" \n",
    "        --inner join iggy.sf_feature_layer sfl \n",
    "        --    on sfl.geoid = p.cbg \n",
    "        --    and sfl.priority_area = 1\n",
    "        where 1=1\n",
    "        and poi.cbg <> p.cbg\n",
    "        and d.source_category = 'is_urgent_health_care'\n",
    "        and LOWER(p.cdl_majority_category) not like '%%open space%%'\n",
    "        and LOWER(p.cdl_majority_category) not like '%%forest%%'\n",
    "        and lower(p.zoning_description) not like '%%industrial%%'\n",
    "        and (distance_in_meters::FLOAT/1609) < 0.25\n",
    "    );\n",
    "\"\"\".format(prefix, distances, parcels, poi)\n",
    "\n",
    "engine.execute(query)"
   ]
  },
  {
   "cell_type": "markdown",
   "metadata": {},
   "source": [
    "# Updating Layer with Proximity Data"
   ]
  },
  {
   "cell_type": "code",
   "execution_count": 59,
   "metadata": {},
   "outputs": [
    {
     "data": {
      "text/plain": [
       "<sqlalchemy.engine.result.ResultProxy at 0x7fd1c6142610>"
      ]
     },
     "execution_count": 59,
     "metadata": {},
     "output_type": "execute_result"
    }
   ],
   "source": [
    "query = \"\"\"\n",
    "    DROP TABLE IF EXISTS iggy.{0}_urgent_care_proximity;\n",
    "    CREATE TABLE iggy.{0}_urgent_care_proximity AS (\n",
    "        WITH parcels AS (\n",
    "            select distinct p.\"_id\" \n",
    "            , ST_setSRID(p.\"_geometry\", 4326) as geom\n",
    "            , p.cbg \n",
    "            from iggy.{1} d \n",
    "            left join iggy.{2} p \n",
    "                on p.\"_id\" = d.id \n",
    "            left join iggy.{3} poi \n",
    "                on poi._source_id  = d.\"_source_id\" \n",
    "            INNER JOIN iggy.sf_feature_layer sfl \n",
    "                on sfl.geoid = p.cbg \n",
    "                and sfl.priority_area = 1\n",
    "            where 1=1\n",
    "            and d.source_category = 'is_urgent_health_care'\n",
    "            and LOWER(p.cdl_majority_category) not like '%%open space%%'\n",
    "            and LOWER(p.cdl_majority_category) not like '%%forest%%'\n",
    "            and lower(p.zoning_description) not like '%%industrial%%'\n",
    "            and (distance_in_meters::FLOAT/1609) >= 0.25\n",
    "        )\n",
    "        select DISTINCT sfl.geoid\n",
    "        , sfl.geom\n",
    "        , count(distinct par.\"_id\")/count(distinct p.\"_id\")::FLOAT AS perc_parcels_far\n",
    "        FROM iggy.{2} p \n",
    "        LEFT JOIN parcels par\n",
    "            ON par.\"_id\" = p.\"_id\"\n",
    "        INNER JOIN iggy.sf_feature_layer sfl \n",
    "            on sfl.geoid = p.cbg \n",
    "            and sfl.priority_area = 1\n",
    "        where 1=1\n",
    "            and LOWER(p.cdl_majority_category) not like '%%open space%%'\n",
    "            and LOWER(p.cdl_majority_category) not like '%%forest%%'\n",
    "            and lower(p.zoning_description) not like '%%industrial%%'\n",
    "        GROUP BY 1,2\n",
    "    );\n",
    "\"\"\".format(prefix, distances, parcels, poi)\n",
    "\n",
    "engine.execute(query)"
   ]
  }
 ],
 "metadata": {
  "kernelspec": {
   "display_name": "Python 3",
   "language": "python",
   "name": "python3"
  },
  "language_info": {
   "codemirror_mode": {
    "name": "ipython",
    "version": 3
   },
   "file_extension": ".py",
   "mimetype": "text/x-python",
   "name": "python",
   "nbconvert_exporter": "python",
   "pygments_lexer": "ipython3",
   "version": "3.9.0"
  },
  "toc": {
   "base_numbering": 1,
   "nav_menu": {},
   "number_sections": true,
   "sideBar": true,
   "skip_h1_title": false,
   "title_cell": "Table of Contents",
   "title_sidebar": "Contents",
   "toc_cell": false,
   "toc_position": {},
   "toc_section_display": true,
   "toc_window_display": false
  }
 },
 "nbformat": 4,
 "nbformat_minor": 4
}
