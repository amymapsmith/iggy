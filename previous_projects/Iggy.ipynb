{
 "cells": [
  {
   "cell_type": "markdown",
   "metadata": {
    "heading_collapsed": true
   },
   "source": [
    "# Washington, D.C. Livability Index"
   ]
  },
  {
   "cell_type": "markdown",
   "metadata": {
    "hidden": true
   },
   "source": [
    "## Prompt\n",
    "\n",
    "For the first part of this exercise, we'd like you to create a livability index for Washington DC. You are welcome to include additional data inputs beyond those listed below. The definition of what livability means is up to you to decide, but you should explain and defend your definition.\n",
    "\n",
    "The specific combination of datasets and methodology used to create the index is also up to you.\n",
    "\n",
    "Write up a short document (a google doc, .ipynb or R markdown file) in which you define and discuss your liveability metric and definition. Why is your metric a good one? How is it limited/where may it fall short?\n",
    "Feel free to include any plots or additional material that help us understand your work. Alongside the write-up please include your code."
   ]
  },
  {
   "cell_type": "markdown",
   "metadata": {
    "hidden": true
   },
   "source": [
    "## Overview\n",
    "\n",
    "![alt text](dc_livability-01.png \"DC Livability\")\n",
    "\n",
    "**What is Livability?**\n",
    "\n",
    "\"Livability\" is a term that is typically used to refer to the quality of life in an area. Livability indexes are often designed to help individuals and families decide on locations to live, such as [AARP's Livability Index](https://livabilityindex.aarp.org/) and [AreaVibes.com](https://www.areavibes.com/about/). Because quality of life can be described by a variety of factors, livability indexes can vary depending on the use case for the index and the audience. \n",
    "\n",
    "The livability index produced by the analysis below ranks areas based on six categories that have been shown to affect quality of life. This list is not comprehensive, but is a first draft of an index that can be built upon and refined through additional research and analysis. \n",
    "\n",
    "**Livability Categories**\n",
    "1. **Transportation:** Areas are scored based on access to, and frequency of, public transportation. Access to bikeshare is also included in the score.\n",
    "\n",
    "2. **Safety:** The safety score is informed by crime data. The more crimes, the lower the safety score.\n",
    "\n",
    "3. **Health & Environment:** Areas are scored based on their walkability (how much pedestrian infrastructure there is in an area) and the amount of green space.\n",
    "\n",
    "4. **Affordability:** Affordability is informed by median home values and access to SNAP retail locations. \n",
    "\n",
    "5. **Amenities:** Areas are scored based on access to amenities, including grocery stores and social environments where drinking is permitted (liquor licenses).\n",
    "\n",
    "6. **Access:** Access is defined by the number of jobs within a 45 minute drive or transit trip.\n",
    "\n",
    "**About the Analysis**\n",
    "\n",
    "The analysis below calculates a Livability Index for every Census Block Group in Washington, D.C., using publicly available datasets. The analysis was conducted using PostgreSQL, PostGIS, Python, and QGIS. Each input dataset was rescaled such that all values within a variable or an individual index range from 0 to 1, with feature quantities expressed as densities. The final livability score is an average of the individual scores. The final dataset is included in this package. \n",
    "\n",
    "**Strengths of the Livability Index**\n",
    "\n",
    "Rescaling the datasets to a consistent range of values allows the individual scores and their components to be combined and compared. Census Block Group geographies facilitate easy linkages with many publicly available datasets and are small enough to describe an area (typically several blocks) without overgeneralizing. The use of SQL with PostGIS lends itself to efficient processing of data, spatial aggregations, and scoring that can be easily refreshed and updated with new datasets. Grouping the inputs into themes makes it possible to review the degree to which each component contributes to overall livability as defined by the index.\n",
    "\n",
    "**Limitations of the Livability Index**\n",
    "\n",
    "The use Census Block Groups creates arbitrary divisions between locations. Another approach would be to create index surfaces using a cell-based approach with adjustable aggregation scales. Because all of the scores use data for the DC area only, scores cannot be compared with other areas. This also may result in counterintuitive scores. For example, areas with some level of crime may show up as very high in the range of safety scores if they have relatively few crimes compared with other areas. Future analysis should incorporate reasonableness checks and thresholds. It should also calculate scores based on regional and national benchmarks. For instance, an area within D.C. (one of the most expensive cities in the US) categorized as \"affordable\" by this analysis may be outside of the price range of many individuals and families. Because livability is subjective to a degree, future analysis should also incorporate user-defined weights for each category. \n",
    "\n",
    "**Additional Notes**\n",
    "\n",
    "Multiple datasets not listed in the prompt are used in the analysis, including the EPA Smart Location Database, the American Community Survey, Capitol Bikeshare data, D.C. crime data, and USDA SNAP retail locations. Crime data was used in place of 311 calls for the safety score, as 311 calls can be [highly](https://www.bloomberg.com/news/articles/2018-10-18/in-new-york-city-gentrification-brings-more-311-calls) [biased](https://www.governing.com/topics/mgmt/gov-311-data.html). Parks were removed as there was some redundancy with the tree cover and density layers. The tree cover raster was converted to vector using QGIS."
   ]
  },
  {
   "cell_type": "markdown",
   "metadata": {
    "hidden": true
   },
   "source": [
    "## Import Libraries"
   ]
  },
  {
   "cell_type": "code",
   "execution_count": 1,
   "metadata": {
    "hidden": true
   },
   "outputs": [
    {
     "ename": "ModuleNotFoundError",
     "evalue": "No module named 'census'",
     "output_type": "error",
     "traceback": [
      "\u001b[0;31m---------------------------------------------------------------------------\u001b[0m",
      "\u001b[0;31mModuleNotFoundError\u001b[0m                       Traceback (most recent call last)",
      "\u001b[0;32m<ipython-input-1-391424d791c9>\u001b[0m in \u001b[0;36m<module>\u001b[0;34m\u001b[0m\n\u001b[0;32m----> 1\u001b[0;31m \u001b[0;32mfrom\u001b[0m \u001b[0mcensus\u001b[0m \u001b[0;32mimport\u001b[0m \u001b[0mCensus\u001b[0m\u001b[0;34m\u001b[0m\u001b[0;34m\u001b[0m\u001b[0m\n\u001b[0m\u001b[1;32m      2\u001b[0m \u001b[0;32mfrom\u001b[0m \u001b[0mus\u001b[0m \u001b[0;32mimport\u001b[0m \u001b[0mstates\u001b[0m\u001b[0;34m\u001b[0m\u001b[0;34m\u001b[0m\u001b[0m\n\u001b[1;32m      3\u001b[0m \u001b[0;32mimport\u001b[0m \u001b[0mpandas\u001b[0m \u001b[0;32mas\u001b[0m \u001b[0mpd\u001b[0m\u001b[0;34m\u001b[0m\u001b[0;34m\u001b[0m\u001b[0m\n\u001b[1;32m      4\u001b[0m \u001b[0;32mfrom\u001b[0m \u001b[0msqlalchemy\u001b[0m \u001b[0;32mimport\u001b[0m \u001b[0mcreate_engine\u001b[0m\u001b[0;34m\u001b[0m\u001b[0;34m\u001b[0m\u001b[0m\n\u001b[1;32m      5\u001b[0m \u001b[0;32mimport\u001b[0m \u001b[0mmatplotlib\u001b[0m\u001b[0;34m.\u001b[0m\u001b[0mpyplot\u001b[0m \u001b[0;32mas\u001b[0m \u001b[0mplt\u001b[0m\u001b[0;34m\u001b[0m\u001b[0;34m\u001b[0m\u001b[0m\n",
      "\u001b[0;31mModuleNotFoundError\u001b[0m: No module named 'census'"
     ]
    }
   ],
   "source": [
    "from census import Census\n",
    "from us import states\n",
    "import pandas as pd \n",
    "from sqlalchemy import create_engine\n",
    "import matplotlib.pyplot as plt\n",
    "import geopandas as gpd\n",
    "from shapely import wkt\n",
    "from mpl_toolkits.axes_grid1 import make_axes_locatable\n",
    "%matplotlib notebook"
   ]
  },
  {
   "cell_type": "code",
   "execution_count": 4,
   "metadata": {
    "hidden": true
   },
   "outputs": [],
   "source": [
    "engine = create_engine('postgresql://amy@localhost:5432/amy')\n",
    "c = Census(\"be588bd861cbf7e0545af372027fc4980855f07e\")"
   ]
  },
  {
   "cell_type": "markdown",
   "metadata": {
    "hidden": true
   },
   "source": [
    "## Data"
   ]
  },
  {
   "cell_type": "markdown",
   "metadata": {
    "hidden": true
   },
   "source": [
    "### Census"
   ]
  },
  {
   "cell_type": "code",
   "execution_count": 5,
   "metadata": {
    "hidden": true
   },
   "outputs": [],
   "source": [
    "# Table B25077: Median Value (Dollars)\n",
    "# https://censusreporter.org/topics/housing/\n",
    "\n",
    "housing = pd.DataFrame.from_dict(c.acs5.get(('NAME', 'group(B25077)'),\n",
    "          {'for': 'tract:*',\n",
    "           'in': 'state:{} county:001'.format(states.DC.fips)}))"
   ]
  },
  {
   "cell_type": "code",
   "execution_count": 6,
   "metadata": {
    "hidden": true
   },
   "outputs": [
    {
     "data": {
      "text/html": [
       "<div>\n",
       "<style scoped>\n",
       "    .dataframe tbody tr th:only-of-type {\n",
       "        vertical-align: middle;\n",
       "    }\n",
       "\n",
       "    .dataframe tbody tr th {\n",
       "        vertical-align: top;\n",
       "    }\n",
       "\n",
       "    .dataframe thead th {\n",
       "        text-align: right;\n",
       "    }\n",
       "</style>\n",
       "<table border=\"1\" class=\"dataframe\">\n",
       "  <thead>\n",
       "    <tr style=\"text-align: right;\">\n",
       "      <th></th>\n",
       "      <th>B25077_001E</th>\n",
       "      <th>B25077_001EA</th>\n",
       "      <th>B25077_001M</th>\n",
       "      <th>B25077_001MA</th>\n",
       "      <th>GEO_ID</th>\n",
       "      <th>NAME</th>\n",
       "      <th>county</th>\n",
       "      <th>state</th>\n",
       "      <th>tract</th>\n",
       "    </tr>\n",
       "  </thead>\n",
       "  <tbody>\n",
       "    <tr>\n",
       "      <th>0</th>\n",
       "      <td>262900.0</td>\n",
       "      <td>None</td>\n",
       "      <td>15055.0</td>\n",
       "      <td>None</td>\n",
       "      <td>1400000US11001009902</td>\n",
       "      <td>Census Tract 99.02, District of Columbia, Dist...</td>\n",
       "      <td>001</td>\n",
       "      <td>11</td>\n",
       "      <td>009902</td>\n",
       "    </tr>\n",
       "    <tr>\n",
       "      <th>1</th>\n",
       "      <td>286700.0</td>\n",
       "      <td>None</td>\n",
       "      <td>55004.0</td>\n",
       "      <td>None</td>\n",
       "      <td>1400000US11001009904</td>\n",
       "      <td>Census Tract 99.04, District of Columbia, Dist...</td>\n",
       "      <td>001</td>\n",
       "      <td>11</td>\n",
       "      <td>009904</td>\n",
       "    </tr>\n",
       "    <tr>\n",
       "      <th>2</th>\n",
       "      <td>1333300.0</td>\n",
       "      <td>None</td>\n",
       "      <td>300601.0</td>\n",
       "      <td>None</td>\n",
       "      <td>1400000US11001000100</td>\n",
       "      <td>Census Tract 1, District of Columbia, District...</td>\n",
       "      <td>001</td>\n",
       "      <td>11</td>\n",
       "      <td>000100</td>\n",
       "    </tr>\n",
       "    <tr>\n",
       "      <th>3</th>\n",
       "      <td>781700.0</td>\n",
       "      <td>None</td>\n",
       "      <td>101946.0</td>\n",
       "      <td>None</td>\n",
       "      <td>1400000US11001000801</td>\n",
       "      <td>Census Tract 8.01, District of Columbia, Distr...</td>\n",
       "      <td>001</td>\n",
       "      <td>11</td>\n",
       "      <td>000801</td>\n",
       "    </tr>\n",
       "    <tr>\n",
       "      <th>4</th>\n",
       "      <td>935400.0</td>\n",
       "      <td>None</td>\n",
       "      <td>67748.0</td>\n",
       "      <td>None</td>\n",
       "      <td>1400000US11001000802</td>\n",
       "      <td>Census Tract 8.02, District of Columbia, Distr...</td>\n",
       "      <td>001</td>\n",
       "      <td>11</td>\n",
       "      <td>000802</td>\n",
       "    </tr>\n",
       "  </tbody>\n",
       "</table>\n",
       "</div>"
      ],
      "text/plain": [
       "   B25077_001E B25077_001EA  B25077_001M B25077_001MA                GEO_ID  \\\n",
       "0     262900.0         None      15055.0         None  1400000US11001009902   \n",
       "1     286700.0         None      55004.0         None  1400000US11001009904   \n",
       "2    1333300.0         None     300601.0         None  1400000US11001000100   \n",
       "3     781700.0         None     101946.0         None  1400000US11001000801   \n",
       "4     935400.0         None      67748.0         None  1400000US11001000802   \n",
       "\n",
       "                                                NAME county state   tract  \n",
       "0  Census Tract 99.02, District of Columbia, Dist...    001    11  009902  \n",
       "1  Census Tract 99.04, District of Columbia, Dist...    001    11  009904  \n",
       "2  Census Tract 1, District of Columbia, District...    001    11  000100  \n",
       "3  Census Tract 8.01, District of Columbia, Distr...    001    11  000801  \n",
       "4  Census Tract 8.02, District of Columbia, Distr...    001    11  000802  "
      ]
     },
     "execution_count": 6,
     "metadata": {},
     "output_type": "execute_result"
    }
   ],
   "source": [
    "housing.head()"
   ]
  },
  {
   "cell_type": "code",
   "execution_count": 7,
   "metadata": {
    "hidden": true
   },
   "outputs": [],
   "source": [
    "housing.to_sql('dc_median_housing_acs', con=engine)"
   ]
  },
  {
   "cell_type": "markdown",
   "metadata": {
    "hidden": true
   },
   "source": [
    "### SNAP"
   ]
  },
  {
   "cell_type": "code",
   "execution_count": 8,
   "metadata": {
    "hidden": true
   },
   "outputs": [
    {
     "data": {
      "text/plain": [
       "<sqlalchemy.engine.result.ResultProxy at 0x11d277890>"
      ]
     },
     "execution_count": 8,
     "metadata": {},
     "output_type": "execute_result"
    }
   ],
   "source": [
    "query = \"\"\"\n",
    "    DROP TABLE IF EXISTS dc_snap;\n",
    "    CREATE TABLE dc_snap AS (\n",
    "        SELECT address \n",
    "        , address_line__2 \n",
    "        , city \n",
    "        , county \n",
    "        , store_name \n",
    "        , geom \n",
    "        FROM snap_locations\n",
    "        WHERE 1=1 \n",
    "        AND state = 'DC'\n",
    "    );\n",
    "\"\"\"\n",
    "\n",
    "engine.execute(query)"
   ]
  },
  {
   "cell_type": "markdown",
   "metadata": {
    "hidden": true
   },
   "source": [
    "### List of Inputs"
   ]
  },
  {
   "cell_type": "code",
   "execution_count": 9,
   "metadata": {
    "hidden": true
   },
   "outputs": [],
   "source": [
    "bikeshare = 'dc_bikeshare' # https://opendata.dc.gov/datasets/capital-bike-share-locations\n",
    "bus = 'dc_bus' # https://opendata.dc.gov/datasets/metro-bus-stops\n",
    "calls = 'dc_311' # https://opendata.dc.gov/datasets/311-city-service-requests-in-2018\n",
    "crime = 'dc_crime' # https://opendata.dc.gov/datasets/crime-incidents-in-2019\n",
    "grocery = 'dc_grocery' # https://opendata.dc.gov/datasets/grocery-store-locations\n",
    "housing = 'dc_median_housing_acs'\n",
    "liquor = 'dc_liquor' # https://opendata.dc.gov/datasets/liquor-licenses\n",
    "metro = 'dc_metro' # https://opendata.dc.gov/datasets/54018b7f06b943f2af278bbe415df1de_52\n",
    "parks = 'dc_parks' # https://opendata.dc.gov/datasets/parks-and-recreation-areas\n",
    "sidewalks = 'dc_sidewalks' # https://opendata.dc.gov/datasets/sidewalks?geometry=-77.026%2C38.892%2C-77.009%2C38.895\n",
    "sld = 'dc_sld' # https://www.epa.gov/smartgrowth/smart-location-mapping#SLD\n",
    "snap = 'dc_snap' # https://www.fns.usda.gov/snap/retailer-locator\n",
    "trees = 'dc_trees' # https://www.mrlc.gov/viewer/"
   ]
  },
  {
   "cell_type": "markdown",
   "metadata": {
    "hidden": true
   },
   "source": [
    "### Compile Dataset"
   ]
  },
  {
   "cell_type": "code",
   "execution_count": 10,
   "metadata": {
    "hidden": true
   },
   "outputs": [
    {
     "data": {
      "text/plain": [
       "<sqlalchemy.engine.result.ResultProxy at 0x11d2770d0>"
      ]
     },
     "execution_count": 10,
     "metadata": {},
     "output_type": "execute_result"
    }
   ],
   "source": [
    "query = \"\"\"\n",
    "    DROP TABLE IF EXISTS dc_livability;\n",
    "    CREATE TABLE dc_livability AS (\n",
    "        WITH bikeshare AS (\n",
    "            SELECT geoid10\n",
    "            , COUNT(DISTINCT terminal_n) AS num_bikeshare_stations\n",
    "            FROM dc_bikeshare b \n",
    "            JOIN dc_sld sld ON ST_Contains(sld.geom, b.geom)\n",
    "            WHERE 1=1\n",
    "            GROUP BY 1\n",
    "        )\n",
    "        , bus AS (\n",
    "            SELECT geoid10\n",
    "            , COUNT(DISTINCT bstp_geo_i) AS num_bus_stations\n",
    "            FROM dc_bus bus\n",
    "            JOIN dc_sld sld ON ST_Contains(sld.geom, bus.geom)\n",
    "            WHERE 1=1\n",
    "            GROUP BY 1\n",
    "        )\n",
    "        , crime AS (\n",
    "            SELECT geoid10\n",
    "            , COUNT(DISTINCT ccn) AS num_crimes\n",
    "            , COUNT(DISTINCT CASE WHEN LOWER(offense) = 'burglary' THEN ccn END) AS num_crimes_burglary\n",
    "            , COUNT(DISTINCT CASE WHEN LOWER(offense) = 'robbery' THEN ccn END) AS num_crimes_robbery\n",
    "            , COUNT(DISTINCT CASE WHEN LOWER(offense) LIKE 'assault%%' THEN ccn END) AS num_crimes_assault\n",
    "            , COUNT(DISTINCT CASE WHEN LOWER(offense) = 'homicide' THEN ccn END) AS num_crimes_homicide\n",
    "            , COUNT(DISTINCT CASE WHEN LOWER(offense) LIKE '%%theft%%' THEN ccn END) AS num_crimes_theft\n",
    "            , COUNT(DISTINCT CASE WHEN LOWER(offense) = 'arson' THEN ccn END) AS num_crimes_arson\n",
    "            , COUNT(DISTINCT CASE WHEN LOWER(offense) = 'sex_abuse' THEN ccn END) AS num_crimes_sex_abuse\n",
    "            FROM dc_crime c \n",
    "            JOIN dc_sld sld ON ST_Contains(sld.geom, c.geom)\n",
    "            WHERE 1=1 \n",
    "            GROUP BY 1\n",
    "        )\n",
    "        , grocery AS (\n",
    "            SELECT geoid10\n",
    "            , COUNT(DISTINCT gis_id) AS num_grocery_stores\n",
    "            FROM dc_grocery g \n",
    "            JOIN dc_sld sld ON ST_Contains(sld.geom, g.geom)\n",
    "            WHERE 1=1\n",
    "            AND present18 = 'Yes'\n",
    "            GROUP BY 1\n",
    "        )\n",
    "        , housing AS (\n",
    "            SELECT DISTINCT geoid10\n",
    "            , \"B25077_001E\" AS median_home_value\n",
    "            FROM dc_sld sld\n",
    "            JOIN dc_median_housing_acs h ON h.tract = sld.trfips\n",
    "            WHERE 1=1\n",
    "            AND \"B25077_001E\" > 0\n",
    "        )\n",
    "        , liquor AS (\n",
    "            SELECT DISTINCT geoid10\n",
    "            , COUNT(DISTINCT license) AS num_liquor_licenses\n",
    "            , COUNT(DISTINCT CASE WHEN type IN ('Club','Night Club','Tavern','Restaurant') THEN license END) AS num_liquor_licenses_bar_restaurant\n",
    "            FROM dc_liquor l \n",
    "            JOIN dc_sld sld ON ST_Contains(sld.geom, l.geom)\n",
    "            WHERE 1=1\n",
    "            AND status = 'Active'\n",
    "            GROUP BY 1\n",
    "        )\n",
    "        , metro AS (\n",
    "            SELECT geoid10\n",
    "            , COUNT(DISTINCT gis_id) AS num_metro_stations\n",
    "            FROM dc_metro m\n",
    "            JOIN dc_sld sld ON ST_Contains(sld.geom, m.geom)\n",
    "            WHERE 1=1\n",
    "            GROUP BY 1\n",
    "        )\n",
    "        , parks AS (\n",
    "            SELECT geoid10\n",
    "            , SUM(p.shape_area) AS park_area\n",
    "            FROM dc_parks p\n",
    "            JOIN dc_sld sld ON ST_Intersects(sld.geom, p.geom)\n",
    "            WHERE 1=1\n",
    "            GROUP BY 1\n",
    "        )\n",
    "        , sidewalks AS (\n",
    "            SELECT geoid10\n",
    "            , SUM(s.shape_area) AS sidewalk_area\n",
    "            FROM dc_sidewalks s \n",
    "            JOIN dc_sld sld ON ST_Intersects(sld.geom, s.geom)\n",
    "            WHERE 1=1 \n",
    "            GROUP BY 1\n",
    "        )\n",
    "        , snap AS (\n",
    "            SELECT geoid10\n",
    "            , COUNT(DISTINCT address || store_name) AS num_snap_retail\n",
    "            FROM dc_snap sn\n",
    "            JOIN dc_sld sld ON ST_Contains(sld.geom, sn.geom)\n",
    "            WHERE 1=1\n",
    "            GROUP BY 1\n",
    "        )\n",
    "        , trees AS (\n",
    "            SELECT geoid10\n",
    "            , AVG(dn) AS avg_tree_density\n",
    "            , COUNT(DISTINCT CASE WHEN dn > 0 THEN tr.id END)*30 AS tree_cover_area\n",
    "            FROM dc_trees tr\n",
    "            JOIN dc_sld sld ON ST_Intersects(sld.geom, tr.geom)\n",
    "            WHERE 1=1\n",
    "            GROUP BY 1\n",
    "        )\n",
    "        \n",
    "        SELECT sld.geoid10\n",
    "        , sld.geom\n",
    "        , sld.ac_land AS land_area\n",
    "        , sld.d1b AS pop_density\n",
    "        , sld.d2a_ephhm AS job_pop_mix\n",
    "        \n",
    "        -- Transportation\n",
    "        , COALESCE(num_bikeshare_stations,0) AS num_bikeshare_stations\n",
    "        , COALESCE(num_bus_stations, 0) AS num_bus_stations\n",
    "        , COALESCE(num_metro_stations, 0) AS num_metro_stations\n",
    "        , d4d AS transit_freq\n",
    "        \n",
    "        -- Safety\n",
    "        , COALESCE(num_crimes, 0) AS num_crimes\n",
    "        , COALESCE(num_crimes_burglary, 0) AS num_crimes_burglary\n",
    "        , COALESCE(num_crimes_robbery, 0) AS num_crimes_robbery\n",
    "        , COALESCE(num_crimes_assault, 0) AS num_crimes_assault\n",
    "        , COALESCE(num_crimes_homicide, 0) AS num_crimes_homicide\n",
    "        , COALESCE(num_crimes_theft, 0) AS num_crimes_theft\n",
    "        , COALESCE(num_crimes_arson, 0) AS num_crimes_arson\n",
    "        , COALESCE(num_crimes_sex_abuse, 0) AS num_crimes_sex_abuse\n",
    "        \n",
    "        -- Health & Environment\n",
    "        , COALESCE(park_area, 0) AS park_area\n",
    "        , COALESCE(sidewalk_area, 0) AS sidewalk_area\n",
    "        , COALESCE(tree_cover_area, 0) AS tree_cover_area\n",
    "        , COALESCE(avg_tree_density, 0) AS avg_tree_density\n",
    "        \n",
    "        -- Affordability\n",
    "        , median_home_value\n",
    "        , COALESCE(num_snap_retail,0) AS num_snap_retail\n",
    "        \n",
    "        -- Amenities\n",
    "        , COALESCE(num_grocery_stores,0) AS num_grocery_stores\n",
    "        , COALESCE(num_liquor_licenses,0) AS num_liquor_licenses\n",
    "        , COALESCE(num_liquor_licenses_bar_restaurant,0) AS num_liquor_licenses_bar_restaurant\n",
    "        \n",
    "        -- Access\n",
    "        , d5ar jobs_45_min_drive\n",
    "        , d5br jobs_45_min_transit\n",
    "        \n",
    "        FROM dc_sld sld \n",
    "        LEFT JOIN bikeshare bike ON bike.geoid10 = sld.geoid10\n",
    "        LEFT JOIN bus ON bus.geoid10 = sld.geoid10\n",
    "        LEFT JOIN crime c ON c.geoid10 = sld.geoid10\n",
    "        LEFT JOIN grocery g ON g.geoid10 = sld.geoid10\n",
    "        LEFT JOIN housing h ON h.geoid10 = sld.geoid10\n",
    "        LEFT JOIN liquor l ON l.geoid10 = sld.geoid10\n",
    "        LEFT JOIN metro m ON m.geoid10 = sld.geoid10\n",
    "        LEFT JOIN parks p ON p.geoid10 = sld.geoid10\n",
    "        LEFT JOIN sidewalks s ON s.geoid10 = sld.geoid10\n",
    "        LEFT JOIN snap sn ON sn.geoid10 = sld.geoid10\n",
    "        LEFT JOIN trees t ON t.geoid10 = sld.geoid10\n",
    "        \n",
    "        WHERE 1=1\n",
    "    );\n",
    "\"\"\"\n",
    "\n",
    "engine.execute(query)"
   ]
  },
  {
   "cell_type": "markdown",
   "metadata": {
    "hidden": true
   },
   "source": [
    "## Individual Scores"
   ]
  },
  {
   "cell_type": "markdown",
   "metadata": {
    "hidden": true
   },
   "source": [
    "### Transportation"
   ]
  },
  {
   "cell_type": "code",
   "execution_count": 11,
   "metadata": {
    "hidden": true
   },
   "outputs": [
    {
     "data": {
      "text/plain": [
       "<sqlalchemy.engine.result.ResultProxy at 0x11d2a58d0>"
      ]
     },
     "execution_count": 11,
     "metadata": {},
     "output_type": "execute_result"
    }
   ],
   "source": [
    "# Add Density Columns\n",
    "\n",
    "query = \"\"\"\n",
    "    ALTER TABLE dc_livability ADD COLUMN bikeshare_density FLOAT;\n",
    "    ALTER TABLE dc_livability ADD COLUMN bus_density FLOAT;\n",
    "    ALTER TABLE dc_livability ADD COLUMN metro_density FLOAT;\n",
    "    UPDATE dc_livability \n",
    "    SET bikeshare_density = num_bikeshare_stations::FLOAT/land_area\n",
    "    , bus_density = num_bus_stations::FLOAT/land_area\n",
    "    , metro_density = num_metro_stations::FLOAT/land_area\n",
    "    ; \n",
    "\"\"\"\n",
    "\n",
    "engine.execute(query)"
   ]
  },
  {
   "cell_type": "code",
   "execution_count": 12,
   "metadata": {
    "hidden": true
   },
   "outputs": [
    {
     "data": {
      "text/plain": [
       "<sqlalchemy.engine.result.ResultProxy at 0x11d277190>"
      ]
     },
     "execution_count": 12,
     "metadata": {},
     "output_type": "execute_result"
    }
   ],
   "source": [
    "# Add Percentiles\n",
    "\n",
    "query = \"\"\"\n",
    "    ALTER TABLE dc_livability ADD COLUMN bikeshare_ntile FLOAT;\n",
    "    ALTER TABLE dc_livability ADD COLUMN bus_ntile FLOAT;\n",
    "    ALTER TABLE dc_livability ADD COLUMN metro_ntile FLOAT;\n",
    "    ALTER TABLE dc_livability ADD COLUMN transit_freq_ntile FLOAT;\n",
    "    WITH percentiles AS (\n",
    "        SELECT geoid10\n",
    "        , PERCENT_RANK() OVER (ORDER BY bikeshare_density) AS bikeshare_ntile\n",
    "        , PERCENT_RANK() OVER (ORDER BY bus_density) AS bus_ntile\n",
    "        , PERCENT_RANK() OVER (ORDER BY metro_density) AS metro_ntile\n",
    "        , PERCENT_RANK() OVER (ORDER BY transit_freq) AS transit_freq_ntile\n",
    "        FROM dc_livability\n",
    "        WHERE 1=1\n",
    "    )\n",
    "    UPDATE dc_livability AS l\n",
    "    SET bikeshare_ntile = p.bikeshare_ntile\n",
    "    , bus_ntile = p.bus_ntile\n",
    "    , metro_ntile = p.metro_ntile\n",
    "    , transit_freq_ntile = p.transit_freq_ntile\n",
    "    FROM percentiles p \n",
    "    WHERE 1=1\n",
    "    AND p.geoid10 = l.geoid10\n",
    "    ;\n",
    "\"\"\"\n",
    "\n",
    "engine.execute(query)"
   ]
  },
  {
   "cell_type": "code",
   "execution_count": 13,
   "metadata": {
    "hidden": true
   },
   "outputs": [
    {
     "data": {
      "text/plain": [
       "<sqlalchemy.engine.result.ResultProxy at 0x11d233fd0>"
      ]
     },
     "execution_count": 13,
     "metadata": {},
     "output_type": "execute_result"
    }
   ],
   "source": [
    "# Score\n",
    "\n",
    "query = \"\"\"\n",
    "    ALTER TABLE dc_livability ADD COLUMN transit_score FLOAT;\n",
    "    UPDATE dc_livability \n",
    "    SET transit_score = (bikeshare_ntile + bus_ntile + metro_ntile + transit_freq_ntile)/4\n",
    "    ;\n",
    "\"\"\"\n",
    "\n",
    "engine.execute(query)"
   ]
  },
  {
   "cell_type": "markdown",
   "metadata": {
    "hidden": true
   },
   "source": [
    "### Safety"
   ]
  },
  {
   "cell_type": "code",
   "execution_count": 14,
   "metadata": {
    "hidden": true
   },
   "outputs": [
    {
     "data": {
      "text/plain": [
       "<sqlalchemy.engine.result.ResultProxy at 0x11d277d50>"
      ]
     },
     "execution_count": 14,
     "metadata": {},
     "output_type": "execute_result"
    }
   ],
   "source": [
    "# Add Density Column\n",
    "\n",
    "query = \"\"\"\n",
    "    ALTER TABLE dc_livability ADD COLUMN crime_density FLOAT;\n",
    "    UPDATE dc_livability \n",
    "    SET crime_density = num_crimes::FLOAT/land_area\n",
    "    ; \n",
    "\"\"\"\n",
    "\n",
    "engine.execute(query)"
   ]
  },
  {
   "cell_type": "code",
   "execution_count": 15,
   "metadata": {
    "hidden": true
   },
   "outputs": [
    {
     "data": {
      "text/plain": [
       "<sqlalchemy.engine.result.ResultProxy at 0x11d277e50>"
      ]
     },
     "execution_count": 15,
     "metadata": {},
     "output_type": "execute_result"
    }
   ],
   "source": [
    "# Add Score\n",
    "\n",
    "query = \"\"\"\n",
    "    ALTER TABLE dc_livability ADD COLUMN crime_score FLOAT;\n",
    "    WITH percentiles AS (\n",
    "        SELECT geoid10\n",
    "        , PERCENT_RANK() OVER (ORDER BY crime_density DESC) AS crime_score\n",
    "        FROM dc_livability\n",
    "        WHERE 1=1\n",
    "    )\n",
    "    UPDATE dc_livability AS l\n",
    "    SET crime_score = p.crime_score\n",
    "    FROM percentiles p \n",
    "    WHERE 1=1\n",
    "    AND p.geoid10 = l.geoid10\n",
    "    ;\n",
    "\"\"\"\n",
    "\n",
    "engine.execute(query)"
   ]
  },
  {
   "cell_type": "markdown",
   "metadata": {
    "hidden": true
   },
   "source": [
    "### Health & Environment"
   ]
  },
  {
   "cell_type": "code",
   "execution_count": 16,
   "metadata": {
    "hidden": true
   },
   "outputs": [
    {
     "data": {
      "text/plain": [
       "<sqlalchemy.engine.result.ResultProxy at 0x11d2a5e50>"
      ]
     },
     "execution_count": 16,
     "metadata": {},
     "output_type": "execute_result"
    }
   ],
   "source": [
    "# Add Density Columns\n",
    "\n",
    "query = \"\"\"\n",
    "    ALTER TABLE dc_livability ADD COLUMN tree_area_density FLOAT;\n",
    "    UPDATE dc_livability \n",
    "    SET tree_area_density = tree_cover_area::FLOAT/land_area\n",
    "    ; \n",
    "\"\"\"\n",
    "\n",
    "engine.execute(query)"
   ]
  },
  {
   "cell_type": "code",
   "execution_count": 17,
   "metadata": {
    "hidden": true
   },
   "outputs": [
    {
     "data": {
      "text/plain": [
       "<sqlalchemy.engine.result.ResultProxy at 0x11d2a5f50>"
      ]
     },
     "execution_count": 17,
     "metadata": {},
     "output_type": "execute_result"
    }
   ],
   "source": [
    "# Add Percentiles\n",
    "\n",
    "query = \"\"\"\n",
    "    ALTER TABLE dc_livability ADD COLUMN park_ntile FLOAT;\n",
    "    ALTER TABLE dc_livability ADD COLUMN sidewalk_ntile FLOAT;\n",
    "    ALTER TABLE dc_livability ADD COLUMN tree_area_ntile FLOAT;\n",
    "    ALTER TABLE dc_livability ADD COLUMN tree_density_ntile FLOAT;\n",
    "    WITH percentiles AS (\n",
    "        SELECT geoid10\n",
    "        , PERCENT_RANK() OVER (ORDER BY park_area) AS park_ntile\n",
    "        , PERCENT_RANK() OVER (ORDER BY sidewalk_area) AS sidewalk_ntile\n",
    "        , PERCENT_RANK() OVER (ORDER BY tree_area_density) AS tree_area_ntile\n",
    "        , PERCENT_RANK() OVER (ORDER BY avg_tree_density) AS tree_density_ntile\n",
    "        FROM dc_livability\n",
    "        WHERE 1=1\n",
    "    )\n",
    "    UPDATE dc_livability AS l\n",
    "    SET park_ntile = p.park_ntile\n",
    "    , sidewalk_ntile = p.sidewalk_ntile\n",
    "    , tree_area_ntile = p.tree_area_ntile\n",
    "    , tree_density_ntile = p.tree_density_ntile\n",
    "    FROM percentiles p \n",
    "    WHERE 1=1\n",
    "    AND p.geoid10 = l.geoid10\n",
    "    ;\n",
    "\"\"\"\n",
    "\n",
    "engine.execute(query)"
   ]
  },
  {
   "cell_type": "code",
   "execution_count": 18,
   "metadata": {
    "hidden": true
   },
   "outputs": [
    {
     "data": {
      "text/plain": [
       "<sqlalchemy.engine.result.ResultProxy at 0x11d2a5610>"
      ]
     },
     "execution_count": 18,
     "metadata": {},
     "output_type": "execute_result"
    }
   ],
   "source": [
    "# Score\n",
    "\n",
    "query = \"\"\"\n",
    "    ALTER TABLE dc_livability DROP COLUMN IF EXISTS env_score;\n",
    "    ALTER TABLE dc_livability ADD COLUMN env_score FLOAT;\n",
    "    UPDATE dc_livability \n",
    "    SET env_score = (sidewalk_ntile + tree_area_ntile + tree_density_ntile)/3\n",
    "    ;\n",
    "\"\"\"\n",
    "\n",
    "engine.execute(query)"
   ]
  },
  {
   "cell_type": "markdown",
   "metadata": {
    "hidden": true
   },
   "source": [
    "### Affordability"
   ]
  },
  {
   "cell_type": "code",
   "execution_count": 19,
   "metadata": {
    "hidden": true
   },
   "outputs": [
    {
     "data": {
      "text/plain": [
       "<sqlalchemy.engine.result.ResultProxy at 0x11d2a5b10>"
      ]
     },
     "execution_count": 19,
     "metadata": {},
     "output_type": "execute_result"
    }
   ],
   "source": [
    "# Add Percentiles\n",
    "\n",
    "query = \"\"\"\n",
    "    ALTER TABLE dc_livability ADD COLUMN home_value_ntile FLOAT;\n",
    "    ALTER TABLE dc_livability ADD COLUMN snap_ntile FLOAT;\n",
    "    WITH percentiles AS (\n",
    "        SELECT geoid10\n",
    "        , PERCENT_RANK() OVER (ORDER BY median_home_value DESC) AS home_value_ntile\n",
    "        , PERCENT_RANK() OVER (ORDER BY num_snap_retail) AS snap_ntile\n",
    "        FROM dc_livability\n",
    "        WHERE 1=1\n",
    "    )\n",
    "    UPDATE dc_livability AS l\n",
    "    SET home_value_ntile = p.home_value_ntile\n",
    "    , snap_ntile = p.snap_ntile\n",
    "    FROM percentiles p \n",
    "    WHERE 1=1\n",
    "    AND p.geoid10 = l.geoid10\n",
    "    ;\n",
    "\"\"\"\n",
    "\n",
    "engine.execute(query)"
   ]
  },
  {
   "cell_type": "code",
   "execution_count": 20,
   "metadata": {
    "hidden": true
   },
   "outputs": [
    {
     "data": {
      "text/plain": [
       "<sqlalchemy.engine.result.ResultProxy at 0x11d277dd0>"
      ]
     },
     "execution_count": 20,
     "metadata": {},
     "output_type": "execute_result"
    }
   ],
   "source": [
    "# Score\n",
    "\n",
    "query = \"\"\"\n",
    "    ALTER TABLE dc_livability ADD COLUMN aff_score FLOAT;\n",
    "    UPDATE dc_livability \n",
    "    SET aff_score = (home_value_ntile + snap_ntile)/2\n",
    "    ;\n",
    "\"\"\"\n",
    "\n",
    "engine.execute(query)"
   ]
  },
  {
   "cell_type": "markdown",
   "metadata": {
    "hidden": true
   },
   "source": [
    "### Amenities"
   ]
  },
  {
   "cell_type": "code",
   "execution_count": 21,
   "metadata": {
    "hidden": true
   },
   "outputs": [
    {
     "data": {
      "text/plain": [
       "<sqlalchemy.engine.result.ResultProxy at 0x11d2c9410>"
      ]
     },
     "execution_count": 21,
     "metadata": {},
     "output_type": "execute_result"
    }
   ],
   "source": [
    "# Add Density Columns\n",
    "\n",
    "query = \"\"\"\n",
    "    ALTER TABLE dc_livability ADD COLUMN grocery_density FLOAT;\n",
    "    ALTER TABLE dc_livability ADD COLUMN liquor_density FLOAT;\n",
    "    UPDATE dc_livability \n",
    "    SET grocery_density = num_grocery_stores::FLOAT/land_area\n",
    "    , liquor_density = num_liquor_licenses_bar_restaurant::FLOAT/land_area\n",
    "    ; \n",
    "\"\"\"\n",
    "\n",
    "engine.execute(query)"
   ]
  },
  {
   "cell_type": "code",
   "execution_count": 22,
   "metadata": {
    "hidden": true
   },
   "outputs": [
    {
     "data": {
      "text/plain": [
       "<sqlalchemy.engine.result.ResultProxy at 0x11d2c9390>"
      ]
     },
     "execution_count": 22,
     "metadata": {},
     "output_type": "execute_result"
    }
   ],
   "source": [
    "# Add Percentiles\n",
    "\n",
    "query = \"\"\"\n",
    "    ALTER TABLE dc_livability ADD COLUMN grocery_ntile FLOAT;\n",
    "    ALTER TABLE dc_livability ADD COLUMN liquor_ntile FLOAT;\n",
    "    WITH percentiles AS (\n",
    "        SELECT geoid10\n",
    "        , PERCENT_RANK() OVER (ORDER BY grocery_density) AS grocery_ntile\n",
    "        , PERCENT_RANK() OVER (ORDER BY liquor_density) AS liquor_ntile\n",
    "        FROM dc_livability\n",
    "        WHERE 1=1\n",
    "    )\n",
    "    UPDATE dc_livability AS l\n",
    "    SET grocery_ntile = p.grocery_ntile\n",
    "    , liquor_ntile = p.liquor_ntile\n",
    "    FROM percentiles p \n",
    "    WHERE 1=1\n",
    "    AND p.geoid10 = l.geoid10\n",
    "    ;\n",
    "\"\"\"\n",
    "\n",
    "engine.execute(query)"
   ]
  },
  {
   "cell_type": "code",
   "execution_count": 23,
   "metadata": {
    "hidden": true
   },
   "outputs": [
    {
     "data": {
      "text/plain": [
       "<sqlalchemy.engine.result.ResultProxy at 0x10d4d7f10>"
      ]
     },
     "execution_count": 23,
     "metadata": {},
     "output_type": "execute_result"
    }
   ],
   "source": [
    "# Score\n",
    "\n",
    "query = \"\"\"\n",
    "    ALTER TABLE dc_livability ADD COLUMN amenity_score FLOAT;\n",
    "    UPDATE dc_livability \n",
    "    SET amenity_score = (grocery_ntile + liquor_ntile)/2\n",
    "    ;\n",
    "\"\"\"\n",
    "\n",
    "engine.execute(query)"
   ]
  },
  {
   "cell_type": "markdown",
   "metadata": {
    "hidden": true
   },
   "source": [
    "### Access"
   ]
  },
  {
   "cell_type": "code",
   "execution_count": 24,
   "metadata": {
    "hidden": true
   },
   "outputs": [
    {
     "data": {
      "text/plain": [
       "<sqlalchemy.engine.result.ResultProxy at 0x11d2a5e10>"
      ]
     },
     "execution_count": 24,
     "metadata": {},
     "output_type": "execute_result"
    }
   ],
   "source": [
    "# Add Percentiles\n",
    "\n",
    "query = \"\"\"\n",
    "    ALTER TABLE dc_livability ADD COLUMN jobs_drive_ntile FLOAT;\n",
    "    ALTER TABLE dc_livability ADD COLUMN jobs_transit_ntile FLOAT;\n",
    "    WITH percentiles AS (\n",
    "        SELECT geoid10\n",
    "        , PERCENT_RANK() OVER (ORDER BY jobs_45_min_drive) AS jobs_drive_ntile\n",
    "        , PERCENT_RANK() OVER (ORDER BY jobs_45_min_transit) AS jobs_transit_ntile\n",
    "        FROM dc_livability\n",
    "        WHERE 1=1\n",
    "    )\n",
    "    UPDATE dc_livability AS l\n",
    "    SET jobs_drive_ntile = p.jobs_drive_ntile\n",
    "    , jobs_transit_ntile = p.jobs_transit_ntile\n",
    "    FROM percentiles p \n",
    "    WHERE 1=1\n",
    "    AND p.geoid10 = l.geoid10\n",
    "    ;\n",
    "\"\"\"\n",
    "\n",
    "engine.execute(query)"
   ]
  },
  {
   "cell_type": "code",
   "execution_count": 25,
   "metadata": {
    "hidden": true
   },
   "outputs": [
    {
     "data": {
      "text/plain": [
       "<sqlalchemy.engine.result.ResultProxy at 0x11d2c9a10>"
      ]
     },
     "execution_count": 25,
     "metadata": {},
     "output_type": "execute_result"
    }
   ],
   "source": [
    "# Score\n",
    "\n",
    "query = \"\"\"\n",
    "    ALTER TABLE dc_livability ADD COLUMN access_score FLOAT;\n",
    "    UPDATE dc_livability \n",
    "    SET access_score = (jobs_drive_ntile + jobs_transit_ntile)/2\n",
    "    ;\n",
    "\"\"\"\n",
    "\n",
    "engine.execute(query)"
   ]
  },
  {
   "cell_type": "markdown",
   "metadata": {
    "hidden": true
   },
   "source": [
    "## Index"
   ]
  },
  {
   "cell_type": "code",
   "execution_count": 26,
   "metadata": {
    "hidden": true
   },
   "outputs": [
    {
     "data": {
      "text/plain": [
       "<sqlalchemy.engine.result.ResultProxy at 0x11d2a5d50>"
      ]
     },
     "execution_count": 26,
     "metadata": {},
     "output_type": "execute_result"
    }
   ],
   "source": [
    "query = \"\"\"\n",
    "    ALTER TABLE dc_livability DROP COLUMN IF EXISTS livability_score;\n",
    "    ALTER TABLE dc_livability ADD COLUMN livability_score FLOAT;\n",
    "    UPDATE dc_livability\n",
    "    SET livability_score = (transit_score + crime_score + env_score + aff_score + amenity_score + access_score)::FLOAT/6\n",
    "    ;\n",
    "\"\"\"\n",
    "\n",
    "engine.execute(query)"
   ]
  },
  {
   "cell_type": "markdown",
   "metadata": {
    "hidden": true
   },
   "source": [
    "## Map"
   ]
  },
  {
   "cell_type": "code",
   "execution_count": 27,
   "metadata": {
    "hidden": true
   },
   "outputs": [],
   "source": [
    "query = \"\"\"\n",
    "    WITH dump AS (\n",
    "        SELECT DISTINCT geoid10\n",
    "        , (ST_Dump(geom)).geom AS geom\n",
    "        , livability_score\n",
    "        FROM dc_livability\n",
    "    )\n",
    "    SELECT geoid10\n",
    "    , ST_AsText(geom) AS geom\n",
    "    , livability_score\n",
    "    FROM dump;\n",
    "\"\"\"\n",
    "\n",
    "map_data = pd.read_sql_query(query, con=engine)"
   ]
  },
  {
   "cell_type": "code",
   "execution_count": 28,
   "metadata": {
    "hidden": true
   },
   "outputs": [
    {
     "data": {
      "text/html": [
       "<div>\n",
       "<style scoped>\n",
       "    .dataframe tbody tr th:only-of-type {\n",
       "        vertical-align: middle;\n",
       "    }\n",
       "\n",
       "    .dataframe tbody tr th {\n",
       "        vertical-align: top;\n",
       "    }\n",
       "\n",
       "    .dataframe thead th {\n",
       "        text-align: right;\n",
       "    }\n",
       "</style>\n",
       "<table border=\"1\" class=\"dataframe\">\n",
       "  <thead>\n",
       "    <tr style=\"text-align: right;\">\n",
       "      <th></th>\n",
       "      <th>geoid10</th>\n",
       "      <th>geom</th>\n",
       "      <th>livability_score</th>\n",
       "    </tr>\n",
       "  </thead>\n",
       "  <tbody>\n",
       "    <tr>\n",
       "      <th>0</th>\n",
       "      <td>110010001001</td>\n",
       "      <td>POLYGON((-77.0649741669999 38.9190317750001,-7...</td>\n",
       "      <td>0.653582</td>\n",
       "    </tr>\n",
       "    <tr>\n",
       "      <th>1</th>\n",
       "      <td>110010001002</td>\n",
       "      <td>POLYGON((-77.051140161 38.9106177740001,-77.05...</td>\n",
       "      <td>0.524468</td>\n",
       "    </tr>\n",
       "    <tr>\n",
       "      <th>2</th>\n",
       "      <td>110010001003</td>\n",
       "      <td>POLYGON((-77.060624164 38.9076527730001,-77.06...</td>\n",
       "      <td>0.545781</td>\n",
       "    </tr>\n",
       "    <tr>\n",
       "      <th>3</th>\n",
       "      <td>110010001004</td>\n",
       "      <td>POLYGON((-77.057075163 38.907699773,-77.057072...</td>\n",
       "      <td>0.504640</td>\n",
       "    </tr>\n",
       "    <tr>\n",
       "      <th>4</th>\n",
       "      <td>110010002011</td>\n",
       "      <td>POLYGON((-77.074119169 38.912592773,-77.073940...</td>\n",
       "      <td>0.457993</td>\n",
       "    </tr>\n",
       "  </tbody>\n",
       "</table>\n",
       "</div>"
      ],
      "text/plain": [
       "        geoid10                                               geom  \\\n",
       "0  110010001001  POLYGON((-77.0649741669999 38.9190317750001,-7...   \n",
       "1  110010001002  POLYGON((-77.051140161 38.9106177740001,-77.05...   \n",
       "2  110010001003  POLYGON((-77.060624164 38.9076527730001,-77.06...   \n",
       "3  110010001004  POLYGON((-77.057075163 38.907699773,-77.057072...   \n",
       "4  110010002011  POLYGON((-77.074119169 38.912592773,-77.073940...   \n",
       "\n",
       "   livability_score  \n",
       "0          0.653582  \n",
       "1          0.524468  \n",
       "2          0.545781  \n",
       "3          0.504640  \n",
       "4          0.457993  "
      ]
     },
     "execution_count": 28,
     "metadata": {},
     "output_type": "execute_result"
    }
   ],
   "source": [
    "map_data.head()"
   ]
  },
  {
   "cell_type": "code",
   "execution_count": 29,
   "metadata": {
    "hidden": true
   },
   "outputs": [],
   "source": [
    "map_data['geom'] = map_data['geom'].apply(wkt.loads)"
   ]
  },
  {
   "cell_type": "code",
   "execution_count": 30,
   "metadata": {
    "hidden": true
   },
   "outputs": [],
   "source": [
    "map_geo = gpd.GeoDataFrame(map_data, geometry = 'geom')"
   ]
  },
  {
   "cell_type": "code",
   "execution_count": 31,
   "metadata": {
    "hidden": true
   },
   "outputs": [
    {
     "data": {
      "application/javascript": [
       "/* Put everything inside the global mpl namespace */\n",
       "window.mpl = {};\n",
       "\n",
       "\n",
       "mpl.get_websocket_type = function() {\n",
       "    if (typeof(WebSocket) !== 'undefined') {\n",
       "        return WebSocket;\n",
       "    } else if (typeof(MozWebSocket) !== 'undefined') {\n",
       "        return MozWebSocket;\n",
       "    } else {\n",
       "        alert('Your browser does not have WebSocket support.' +\n",
       "              'Please try Chrome, Safari or Firefox ≥ 6. ' +\n",
       "              'Firefox 4 and 5 are also supported but you ' +\n",
       "              'have to enable WebSockets in about:config.');\n",
       "    };\n",
       "}\n",
       "\n",
       "mpl.figure = function(figure_id, websocket, ondownload, parent_element) {\n",
       "    this.id = figure_id;\n",
       "\n",
       "    this.ws = websocket;\n",
       "\n",
       "    this.supports_binary = (this.ws.binaryType != undefined);\n",
       "\n",
       "    if (!this.supports_binary) {\n",
       "        var warnings = document.getElementById(\"mpl-warnings\");\n",
       "        if (warnings) {\n",
       "            warnings.style.display = 'block';\n",
       "            warnings.textContent = (\n",
       "                \"This browser does not support binary websocket messages. \" +\n",
       "                    \"Performance may be slow.\");\n",
       "        }\n",
       "    }\n",
       "\n",
       "    this.imageObj = new Image();\n",
       "\n",
       "    this.context = undefined;\n",
       "    this.message = undefined;\n",
       "    this.canvas = undefined;\n",
       "    this.rubberband_canvas = undefined;\n",
       "    this.rubberband_context = undefined;\n",
       "    this.format_dropdown = undefined;\n",
       "\n",
       "    this.image_mode = 'full';\n",
       "\n",
       "    this.root = $('<div/>');\n",
       "    this._root_extra_style(this.root)\n",
       "    this.root.attr('style', 'display: inline-block');\n",
       "\n",
       "    $(parent_element).append(this.root);\n",
       "\n",
       "    this._init_header(this);\n",
       "    this._init_canvas(this);\n",
       "    this._init_toolbar(this);\n",
       "\n",
       "    var fig = this;\n",
       "\n",
       "    this.waiting = false;\n",
       "\n",
       "    this.ws.onopen =  function () {\n",
       "            fig.send_message(\"supports_binary\", {value: fig.supports_binary});\n",
       "            fig.send_message(\"send_image_mode\", {});\n",
       "            if (mpl.ratio != 1) {\n",
       "                fig.send_message(\"set_dpi_ratio\", {'dpi_ratio': mpl.ratio});\n",
       "            }\n",
       "            fig.send_message(\"refresh\", {});\n",
       "        }\n",
       "\n",
       "    this.imageObj.onload = function() {\n",
       "            if (fig.image_mode == 'full') {\n",
       "                // Full images could contain transparency (where diff images\n",
       "                // almost always do), so we need to clear the canvas so that\n",
       "                // there is no ghosting.\n",
       "                fig.context.clearRect(0, 0, fig.canvas.width, fig.canvas.height);\n",
       "            }\n",
       "            fig.context.drawImage(fig.imageObj, 0, 0);\n",
       "        };\n",
       "\n",
       "    this.imageObj.onunload = function() {\n",
       "        fig.ws.close();\n",
       "    }\n",
       "\n",
       "    this.ws.onmessage = this._make_on_message_function(this);\n",
       "\n",
       "    this.ondownload = ondownload;\n",
       "}\n",
       "\n",
       "mpl.figure.prototype._init_header = function() {\n",
       "    var titlebar = $(\n",
       "        '<div class=\"ui-dialog-titlebar ui-widget-header ui-corner-all ' +\n",
       "        'ui-helper-clearfix\"/>');\n",
       "    var titletext = $(\n",
       "        '<div class=\"ui-dialog-title\" style=\"width: 100%; ' +\n",
       "        'text-align: center; padding: 3px;\"/>');\n",
       "    titlebar.append(titletext)\n",
       "    this.root.append(titlebar);\n",
       "    this.header = titletext[0];\n",
       "}\n",
       "\n",
       "\n",
       "\n",
       "mpl.figure.prototype._canvas_extra_style = function(canvas_div) {\n",
       "\n",
       "}\n",
       "\n",
       "\n",
       "mpl.figure.prototype._root_extra_style = function(canvas_div) {\n",
       "\n",
       "}\n",
       "\n",
       "mpl.figure.prototype._init_canvas = function() {\n",
       "    var fig = this;\n",
       "\n",
       "    var canvas_div = $('<div/>');\n",
       "\n",
       "    canvas_div.attr('style', 'position: relative; clear: both; outline: 0');\n",
       "\n",
       "    function canvas_keyboard_event(event) {\n",
       "        return fig.key_event(event, event['data']);\n",
       "    }\n",
       "\n",
       "    canvas_div.keydown('key_press', canvas_keyboard_event);\n",
       "    canvas_div.keyup('key_release', canvas_keyboard_event);\n",
       "    this.canvas_div = canvas_div\n",
       "    this._canvas_extra_style(canvas_div)\n",
       "    this.root.append(canvas_div);\n",
       "\n",
       "    var canvas = $('<canvas/>');\n",
       "    canvas.addClass('mpl-canvas');\n",
       "    canvas.attr('style', \"left: 0; top: 0; z-index: 0; outline: 0\")\n",
       "\n",
       "    this.canvas = canvas[0];\n",
       "    this.context = canvas[0].getContext(\"2d\");\n",
       "\n",
       "    var backingStore = this.context.backingStorePixelRatio ||\n",
       "\tthis.context.webkitBackingStorePixelRatio ||\n",
       "\tthis.context.mozBackingStorePixelRatio ||\n",
       "\tthis.context.msBackingStorePixelRatio ||\n",
       "\tthis.context.oBackingStorePixelRatio ||\n",
       "\tthis.context.backingStorePixelRatio || 1;\n",
       "\n",
       "    mpl.ratio = (window.devicePixelRatio || 1) / backingStore;\n",
       "\n",
       "    var rubberband = $('<canvas/>');\n",
       "    rubberband.attr('style', \"position: absolute; left: 0; top: 0; z-index: 1;\")\n",
       "\n",
       "    var pass_mouse_events = true;\n",
       "\n",
       "    canvas_div.resizable({\n",
       "        start: function(event, ui) {\n",
       "            pass_mouse_events = false;\n",
       "        },\n",
       "        resize: function(event, ui) {\n",
       "            fig.request_resize(ui.size.width, ui.size.height);\n",
       "        },\n",
       "        stop: function(event, ui) {\n",
       "            pass_mouse_events = true;\n",
       "            fig.request_resize(ui.size.width, ui.size.height);\n",
       "        },\n",
       "    });\n",
       "\n",
       "    function mouse_event_fn(event) {\n",
       "        if (pass_mouse_events)\n",
       "            return fig.mouse_event(event, event['data']);\n",
       "    }\n",
       "\n",
       "    rubberband.mousedown('button_press', mouse_event_fn);\n",
       "    rubberband.mouseup('button_release', mouse_event_fn);\n",
       "    // Throttle sequential mouse events to 1 every 20ms.\n",
       "    rubberband.mousemove('motion_notify', mouse_event_fn);\n",
       "\n",
       "    rubberband.mouseenter('figure_enter', mouse_event_fn);\n",
       "    rubberband.mouseleave('figure_leave', mouse_event_fn);\n",
       "\n",
       "    canvas_div.on(\"wheel\", function (event) {\n",
       "        event = event.originalEvent;\n",
       "        event['data'] = 'scroll'\n",
       "        if (event.deltaY < 0) {\n",
       "            event.step = 1;\n",
       "        } else {\n",
       "            event.step = -1;\n",
       "        }\n",
       "        mouse_event_fn(event);\n",
       "    });\n",
       "\n",
       "    canvas_div.append(canvas);\n",
       "    canvas_div.append(rubberband);\n",
       "\n",
       "    this.rubberband = rubberband;\n",
       "    this.rubberband_canvas = rubberband[0];\n",
       "    this.rubberband_context = rubberband[0].getContext(\"2d\");\n",
       "    this.rubberband_context.strokeStyle = \"#000000\";\n",
       "\n",
       "    this._resize_canvas = function(width, height) {\n",
       "        // Keep the size of the canvas, canvas container, and rubber band\n",
       "        // canvas in synch.\n",
       "        canvas_div.css('width', width)\n",
       "        canvas_div.css('height', height)\n",
       "\n",
       "        canvas.attr('width', width * mpl.ratio);\n",
       "        canvas.attr('height', height * mpl.ratio);\n",
       "        canvas.attr('style', 'width: ' + width + 'px; height: ' + height + 'px;');\n",
       "\n",
       "        rubberband.attr('width', width);\n",
       "        rubberband.attr('height', height);\n",
       "    }\n",
       "\n",
       "    // Set the figure to an initial 600x600px, this will subsequently be updated\n",
       "    // upon first draw.\n",
       "    this._resize_canvas(600, 600);\n",
       "\n",
       "    // Disable right mouse context menu.\n",
       "    $(this.rubberband_canvas).bind(\"contextmenu\",function(e){\n",
       "        return false;\n",
       "    });\n",
       "\n",
       "    function set_focus () {\n",
       "        canvas.focus();\n",
       "        canvas_div.focus();\n",
       "    }\n",
       "\n",
       "    window.setTimeout(set_focus, 100);\n",
       "}\n",
       "\n",
       "mpl.figure.prototype._init_toolbar = function() {\n",
       "    var fig = this;\n",
       "\n",
       "    var nav_element = $('<div/>')\n",
       "    nav_element.attr('style', 'width: 100%');\n",
       "    this.root.append(nav_element);\n",
       "\n",
       "    // Define a callback function for later on.\n",
       "    function toolbar_event(event) {\n",
       "        return fig.toolbar_button_onclick(event['data']);\n",
       "    }\n",
       "    function toolbar_mouse_event(event) {\n",
       "        return fig.toolbar_button_onmouseover(event['data']);\n",
       "    }\n",
       "\n",
       "    for(var toolbar_ind in mpl.toolbar_items) {\n",
       "        var name = mpl.toolbar_items[toolbar_ind][0];\n",
       "        var tooltip = mpl.toolbar_items[toolbar_ind][1];\n",
       "        var image = mpl.toolbar_items[toolbar_ind][2];\n",
       "        var method_name = mpl.toolbar_items[toolbar_ind][3];\n",
       "\n",
       "        if (!name) {\n",
       "            // put a spacer in here.\n",
       "            continue;\n",
       "        }\n",
       "        var button = $('<button/>');\n",
       "        button.addClass('ui-button ui-widget ui-state-default ui-corner-all ' +\n",
       "                        'ui-button-icon-only');\n",
       "        button.attr('role', 'button');\n",
       "        button.attr('aria-disabled', 'false');\n",
       "        button.click(method_name, toolbar_event);\n",
       "        button.mouseover(tooltip, toolbar_mouse_event);\n",
       "\n",
       "        var icon_img = $('<span/>');\n",
       "        icon_img.addClass('ui-button-icon-primary ui-icon');\n",
       "        icon_img.addClass(image);\n",
       "        icon_img.addClass('ui-corner-all');\n",
       "\n",
       "        var tooltip_span = $('<span/>');\n",
       "        tooltip_span.addClass('ui-button-text');\n",
       "        tooltip_span.html(tooltip);\n",
       "\n",
       "        button.append(icon_img);\n",
       "        button.append(tooltip_span);\n",
       "\n",
       "        nav_element.append(button);\n",
       "    }\n",
       "\n",
       "    var fmt_picker_span = $('<span/>');\n",
       "\n",
       "    var fmt_picker = $('<select/>');\n",
       "    fmt_picker.addClass('mpl-toolbar-option ui-widget ui-widget-content');\n",
       "    fmt_picker_span.append(fmt_picker);\n",
       "    nav_element.append(fmt_picker_span);\n",
       "    this.format_dropdown = fmt_picker[0];\n",
       "\n",
       "    for (var ind in mpl.extensions) {\n",
       "        var fmt = mpl.extensions[ind];\n",
       "        var option = $(\n",
       "            '<option/>', {selected: fmt === mpl.default_extension}).html(fmt);\n",
       "        fmt_picker.append(option)\n",
       "    }\n",
       "\n",
       "    // Add hover states to the ui-buttons\n",
       "    $( \".ui-button\" ).hover(\n",
       "        function() { $(this).addClass(\"ui-state-hover\");},\n",
       "        function() { $(this).removeClass(\"ui-state-hover\");}\n",
       "    );\n",
       "\n",
       "    var status_bar = $('<span class=\"mpl-message\"/>');\n",
       "    nav_element.append(status_bar);\n",
       "    this.message = status_bar[0];\n",
       "}\n",
       "\n",
       "mpl.figure.prototype.request_resize = function(x_pixels, y_pixels) {\n",
       "    // Request matplotlib to resize the figure. Matplotlib will then trigger a resize in the client,\n",
       "    // which will in turn request a refresh of the image.\n",
       "    this.send_message('resize', {'width': x_pixels, 'height': y_pixels});\n",
       "}\n",
       "\n",
       "mpl.figure.prototype.send_message = function(type, properties) {\n",
       "    properties['type'] = type;\n",
       "    properties['figure_id'] = this.id;\n",
       "    this.ws.send(JSON.stringify(properties));\n",
       "}\n",
       "\n",
       "mpl.figure.prototype.send_draw_message = function() {\n",
       "    if (!this.waiting) {\n",
       "        this.waiting = true;\n",
       "        this.ws.send(JSON.stringify({type: \"draw\", figure_id: this.id}));\n",
       "    }\n",
       "}\n",
       "\n",
       "\n",
       "mpl.figure.prototype.handle_save = function(fig, msg) {\n",
       "    var format_dropdown = fig.format_dropdown;\n",
       "    var format = format_dropdown.options[format_dropdown.selectedIndex].value;\n",
       "    fig.ondownload(fig, format);\n",
       "}\n",
       "\n",
       "\n",
       "mpl.figure.prototype.handle_resize = function(fig, msg) {\n",
       "    var size = msg['size'];\n",
       "    if (size[0] != fig.canvas.width || size[1] != fig.canvas.height) {\n",
       "        fig._resize_canvas(size[0], size[1]);\n",
       "        fig.send_message(\"refresh\", {});\n",
       "    };\n",
       "}\n",
       "\n",
       "mpl.figure.prototype.handle_rubberband = function(fig, msg) {\n",
       "    var x0 = msg['x0'] / mpl.ratio;\n",
       "    var y0 = (fig.canvas.height - msg['y0']) / mpl.ratio;\n",
       "    var x1 = msg['x1'] / mpl.ratio;\n",
       "    var y1 = (fig.canvas.height - msg['y1']) / mpl.ratio;\n",
       "    x0 = Math.floor(x0) + 0.5;\n",
       "    y0 = Math.floor(y0) + 0.5;\n",
       "    x1 = Math.floor(x1) + 0.5;\n",
       "    y1 = Math.floor(y1) + 0.5;\n",
       "    var min_x = Math.min(x0, x1);\n",
       "    var min_y = Math.min(y0, y1);\n",
       "    var width = Math.abs(x1 - x0);\n",
       "    var height = Math.abs(y1 - y0);\n",
       "\n",
       "    fig.rubberband_context.clearRect(\n",
       "        0, 0, fig.canvas.width, fig.canvas.height);\n",
       "\n",
       "    fig.rubberband_context.strokeRect(min_x, min_y, width, height);\n",
       "}\n",
       "\n",
       "mpl.figure.prototype.handle_figure_label = function(fig, msg) {\n",
       "    // Updates the figure title.\n",
       "    fig.header.textContent = msg['label'];\n",
       "}\n",
       "\n",
       "mpl.figure.prototype.handle_cursor = function(fig, msg) {\n",
       "    var cursor = msg['cursor'];\n",
       "    switch(cursor)\n",
       "    {\n",
       "    case 0:\n",
       "        cursor = 'pointer';\n",
       "        break;\n",
       "    case 1:\n",
       "        cursor = 'default';\n",
       "        break;\n",
       "    case 2:\n",
       "        cursor = 'crosshair';\n",
       "        break;\n",
       "    case 3:\n",
       "        cursor = 'move';\n",
       "        break;\n",
       "    }\n",
       "    fig.rubberband_canvas.style.cursor = cursor;\n",
       "}\n",
       "\n",
       "mpl.figure.prototype.handle_message = function(fig, msg) {\n",
       "    fig.message.textContent = msg['message'];\n",
       "}\n",
       "\n",
       "mpl.figure.prototype.handle_draw = function(fig, msg) {\n",
       "    // Request the server to send over a new figure.\n",
       "    fig.send_draw_message();\n",
       "}\n",
       "\n",
       "mpl.figure.prototype.handle_image_mode = function(fig, msg) {\n",
       "    fig.image_mode = msg['mode'];\n",
       "}\n",
       "\n",
       "mpl.figure.prototype.updated_canvas_event = function() {\n",
       "    // Called whenever the canvas gets updated.\n",
       "    this.send_message(\"ack\", {});\n",
       "}\n",
       "\n",
       "// A function to construct a web socket function for onmessage handling.\n",
       "// Called in the figure constructor.\n",
       "mpl.figure.prototype._make_on_message_function = function(fig) {\n",
       "    return function socket_on_message(evt) {\n",
       "        if (evt.data instanceof Blob) {\n",
       "            /* FIXME: We get \"Resource interpreted as Image but\n",
       "             * transferred with MIME type text/plain:\" errors on\n",
       "             * Chrome.  But how to set the MIME type?  It doesn't seem\n",
       "             * to be part of the websocket stream */\n",
       "            evt.data.type = \"image/png\";\n",
       "\n",
       "            /* Free the memory for the previous frames */\n",
       "            if (fig.imageObj.src) {\n",
       "                (window.URL || window.webkitURL).revokeObjectURL(\n",
       "                    fig.imageObj.src);\n",
       "            }\n",
       "\n",
       "            fig.imageObj.src = (window.URL || window.webkitURL).createObjectURL(\n",
       "                evt.data);\n",
       "            fig.updated_canvas_event();\n",
       "            fig.waiting = false;\n",
       "            return;\n",
       "        }\n",
       "        else if (typeof evt.data === 'string' && evt.data.slice(0, 21) == \"data:image/png;base64\") {\n",
       "            fig.imageObj.src = evt.data;\n",
       "            fig.updated_canvas_event();\n",
       "            fig.waiting = false;\n",
       "            return;\n",
       "        }\n",
       "\n",
       "        var msg = JSON.parse(evt.data);\n",
       "        var msg_type = msg['type'];\n",
       "\n",
       "        // Call the  \"handle_{type}\" callback, which takes\n",
       "        // the figure and JSON message as its only arguments.\n",
       "        try {\n",
       "            var callback = fig[\"handle_\" + msg_type];\n",
       "        } catch (e) {\n",
       "            console.log(\"No handler for the '\" + msg_type + \"' message type: \", msg);\n",
       "            return;\n",
       "        }\n",
       "\n",
       "        if (callback) {\n",
       "            try {\n",
       "                // console.log(\"Handling '\" + msg_type + \"' message: \", msg);\n",
       "                callback(fig, msg);\n",
       "            } catch (e) {\n",
       "                console.log(\"Exception inside the 'handler_\" + msg_type + \"' callback:\", e, e.stack, msg);\n",
       "            }\n",
       "        }\n",
       "    };\n",
       "}\n",
       "\n",
       "// from http://stackoverflow.com/questions/1114465/getting-mouse-location-in-canvas\n",
       "mpl.findpos = function(e) {\n",
       "    //this section is from http://www.quirksmode.org/js/events_properties.html\n",
       "    var targ;\n",
       "    if (!e)\n",
       "        e = window.event;\n",
       "    if (e.target)\n",
       "        targ = e.target;\n",
       "    else if (e.srcElement)\n",
       "        targ = e.srcElement;\n",
       "    if (targ.nodeType == 3) // defeat Safari bug\n",
       "        targ = targ.parentNode;\n",
       "\n",
       "    // jQuery normalizes the pageX and pageY\n",
       "    // pageX,Y are the mouse positions relative to the document\n",
       "    // offset() returns the position of the element relative to the document\n",
       "    var x = e.pageX - $(targ).offset().left;\n",
       "    var y = e.pageY - $(targ).offset().top;\n",
       "\n",
       "    return {\"x\": x, \"y\": y};\n",
       "};\n",
       "\n",
       "/*\n",
       " * return a copy of an object with only non-object keys\n",
       " * we need this to avoid circular references\n",
       " * http://stackoverflow.com/a/24161582/3208463\n",
       " */\n",
       "function simpleKeys (original) {\n",
       "  return Object.keys(original).reduce(function (obj, key) {\n",
       "    if (typeof original[key] !== 'object')\n",
       "        obj[key] = original[key]\n",
       "    return obj;\n",
       "  }, {});\n",
       "}\n",
       "\n",
       "mpl.figure.prototype.mouse_event = function(event, name) {\n",
       "    var canvas_pos = mpl.findpos(event)\n",
       "\n",
       "    if (name === 'button_press')\n",
       "    {\n",
       "        this.canvas.focus();\n",
       "        this.canvas_div.focus();\n",
       "    }\n",
       "\n",
       "    var x = canvas_pos.x * mpl.ratio;\n",
       "    var y = canvas_pos.y * mpl.ratio;\n",
       "\n",
       "    this.send_message(name, {x: x, y: y, button: event.button,\n",
       "                             step: event.step,\n",
       "                             guiEvent: simpleKeys(event)});\n",
       "\n",
       "    /* This prevents the web browser from automatically changing to\n",
       "     * the text insertion cursor when the button is pressed.  We want\n",
       "     * to control all of the cursor setting manually through the\n",
       "     * 'cursor' event from matplotlib */\n",
       "    event.preventDefault();\n",
       "    return false;\n",
       "}\n",
       "\n",
       "mpl.figure.prototype._key_event_extra = function(event, name) {\n",
       "    // Handle any extra behaviour associated with a key event\n",
       "}\n",
       "\n",
       "mpl.figure.prototype.key_event = function(event, name) {\n",
       "\n",
       "    // Prevent repeat events\n",
       "    if (name == 'key_press')\n",
       "    {\n",
       "        if (event.which === this._key)\n",
       "            return;\n",
       "        else\n",
       "            this._key = event.which;\n",
       "    }\n",
       "    if (name == 'key_release')\n",
       "        this._key = null;\n",
       "\n",
       "    var value = '';\n",
       "    if (event.ctrlKey && event.which != 17)\n",
       "        value += \"ctrl+\";\n",
       "    if (event.altKey && event.which != 18)\n",
       "        value += \"alt+\";\n",
       "    if (event.shiftKey && event.which != 16)\n",
       "        value += \"shift+\";\n",
       "\n",
       "    value += 'k';\n",
       "    value += event.which.toString();\n",
       "\n",
       "    this._key_event_extra(event, name);\n",
       "\n",
       "    this.send_message(name, {key: value,\n",
       "                             guiEvent: simpleKeys(event)});\n",
       "    return false;\n",
       "}\n",
       "\n",
       "mpl.figure.prototype.toolbar_button_onclick = function(name) {\n",
       "    if (name == 'download') {\n",
       "        this.handle_save(this, null);\n",
       "    } else {\n",
       "        this.send_message(\"toolbar_button\", {name: name});\n",
       "    }\n",
       "};\n",
       "\n",
       "mpl.figure.prototype.toolbar_button_onmouseover = function(tooltip) {\n",
       "    this.message.textContent = tooltip;\n",
       "};\n",
       "mpl.toolbar_items = [[\"Home\", \"Reset original view\", \"fa fa-home icon-home\", \"home\"], [\"Back\", \"Back to  previous view\", \"fa fa-arrow-left icon-arrow-left\", \"back\"], [\"Forward\", \"Forward to next view\", \"fa fa-arrow-right icon-arrow-right\", \"forward\"], [\"\", \"\", \"\", \"\"], [\"Pan\", \"Pan axes with left mouse, zoom with right\", \"fa fa-arrows icon-move\", \"pan\"], [\"Zoom\", \"Zoom to rectangle\", \"fa fa-square-o icon-check-empty\", \"zoom\"], [\"\", \"\", \"\", \"\"], [\"Download\", \"Download plot\", \"fa fa-floppy-o icon-save\", \"download\"]];\n",
       "\n",
       "mpl.extensions = [\"eps\", \"pdf\", \"png\", \"ps\", \"raw\", \"svg\"];\n",
       "\n",
       "mpl.default_extension = \"png\";var comm_websocket_adapter = function(comm) {\n",
       "    // Create a \"websocket\"-like object which calls the given IPython comm\n",
       "    // object with the appropriate methods. Currently this is a non binary\n",
       "    // socket, so there is still some room for performance tuning.\n",
       "    var ws = {};\n",
       "\n",
       "    ws.close = function() {\n",
       "        comm.close()\n",
       "    };\n",
       "    ws.send = function(m) {\n",
       "        //console.log('sending', m);\n",
       "        comm.send(m);\n",
       "    };\n",
       "    // Register the callback with on_msg.\n",
       "    comm.on_msg(function(msg) {\n",
       "        //console.log('receiving', msg['content']['data'], msg);\n",
       "        // Pass the mpl event to the overridden (by mpl) onmessage function.\n",
       "        ws.onmessage(msg['content']['data'])\n",
       "    });\n",
       "    return ws;\n",
       "}\n",
       "\n",
       "mpl.mpl_figure_comm = function(comm, msg) {\n",
       "    // This is the function which gets called when the mpl process\n",
       "    // starts-up an IPython Comm through the \"matplotlib\" channel.\n",
       "\n",
       "    var id = msg.content.data.id;\n",
       "    // Get hold of the div created by the display call when the Comm\n",
       "    // socket was opened in Python.\n",
       "    var element = $(\"#\" + id);\n",
       "    var ws_proxy = comm_websocket_adapter(comm)\n",
       "\n",
       "    function ondownload(figure, format) {\n",
       "        window.open(figure.imageObj.src);\n",
       "    }\n",
       "\n",
       "    var fig = new mpl.figure(id, ws_proxy,\n",
       "                           ondownload,\n",
       "                           element.get(0));\n",
       "\n",
       "    // Call onopen now - mpl needs it, as it is assuming we've passed it a real\n",
       "    // web socket which is closed, not our websocket->open comm proxy.\n",
       "    ws_proxy.onopen();\n",
       "\n",
       "    fig.parent_element = element.get(0);\n",
       "    fig.cell_info = mpl.find_output_cell(\"<div id='\" + id + \"'></div>\");\n",
       "    if (!fig.cell_info) {\n",
       "        console.error(\"Failed to find cell for figure\", id, fig);\n",
       "        return;\n",
       "    }\n",
       "\n",
       "    var output_index = fig.cell_info[2]\n",
       "    var cell = fig.cell_info[0];\n",
       "\n",
       "};\n",
       "\n",
       "mpl.figure.prototype.handle_close = function(fig, msg) {\n",
       "    var width = fig.canvas.width/mpl.ratio\n",
       "    fig.root.unbind('remove')\n",
       "\n",
       "    // Update the output cell to use the data from the current canvas.\n",
       "    fig.push_to_output();\n",
       "    var dataURL = fig.canvas.toDataURL();\n",
       "    // Re-enable the keyboard manager in IPython - without this line, in FF,\n",
       "    // the notebook keyboard shortcuts fail.\n",
       "    IPython.keyboard_manager.enable()\n",
       "    $(fig.parent_element).html('<img src=\"' + dataURL + '\" width=\"' + width + '\">');\n",
       "    fig.close_ws(fig, msg);\n",
       "}\n",
       "\n",
       "mpl.figure.prototype.close_ws = function(fig, msg){\n",
       "    fig.send_message('closing', msg);\n",
       "    // fig.ws.close()\n",
       "}\n",
       "\n",
       "mpl.figure.prototype.push_to_output = function(remove_interactive) {\n",
       "    // Turn the data on the canvas into data in the output cell.\n",
       "    var width = this.canvas.width/mpl.ratio\n",
       "    var dataURL = this.canvas.toDataURL();\n",
       "    this.cell_info[1]['text/html'] = '<img src=\"' + dataURL + '\" width=\"' + width + '\">';\n",
       "}\n",
       "\n",
       "mpl.figure.prototype.updated_canvas_event = function() {\n",
       "    // Tell IPython that the notebook contents must change.\n",
       "    IPython.notebook.set_dirty(true);\n",
       "    this.send_message(\"ack\", {});\n",
       "    var fig = this;\n",
       "    // Wait a second, then push the new image to the DOM so\n",
       "    // that it is saved nicely (might be nice to debounce this).\n",
       "    setTimeout(function () { fig.push_to_output() }, 1000);\n",
       "}\n",
       "\n",
       "mpl.figure.prototype._init_toolbar = function() {\n",
       "    var fig = this;\n",
       "\n",
       "    var nav_element = $('<div/>')\n",
       "    nav_element.attr('style', 'width: 100%');\n",
       "    this.root.append(nav_element);\n",
       "\n",
       "    // Define a callback function for later on.\n",
       "    function toolbar_event(event) {\n",
       "        return fig.toolbar_button_onclick(event['data']);\n",
       "    }\n",
       "    function toolbar_mouse_event(event) {\n",
       "        return fig.toolbar_button_onmouseover(event['data']);\n",
       "    }\n",
       "\n",
       "    for(var toolbar_ind in mpl.toolbar_items){\n",
       "        var name = mpl.toolbar_items[toolbar_ind][0];\n",
       "        var tooltip = mpl.toolbar_items[toolbar_ind][1];\n",
       "        var image = mpl.toolbar_items[toolbar_ind][2];\n",
       "        var method_name = mpl.toolbar_items[toolbar_ind][3];\n",
       "\n",
       "        if (!name) { continue; };\n",
       "\n",
       "        var button = $('<button class=\"btn btn-default\" href=\"#\" title=\"' + name + '\"><i class=\"fa ' + image + ' fa-lg\"></i></button>');\n",
       "        button.click(method_name, toolbar_event);\n",
       "        button.mouseover(tooltip, toolbar_mouse_event);\n",
       "        nav_element.append(button);\n",
       "    }\n",
       "\n",
       "    // Add the status bar.\n",
       "    var status_bar = $('<span class=\"mpl-message\" style=\"text-align:right; float: right;\"/>');\n",
       "    nav_element.append(status_bar);\n",
       "    this.message = status_bar[0];\n",
       "\n",
       "    // Add the close button to the window.\n",
       "    var buttongrp = $('<div class=\"btn-group inline pull-right\"></div>');\n",
       "    var button = $('<button class=\"btn btn-mini btn-primary\" href=\"#\" title=\"Stop Interaction\"><i class=\"fa fa-power-off icon-remove icon-large\"></i></button>');\n",
       "    button.click(function (evt) { fig.handle_close(fig, {}); } );\n",
       "    button.mouseover('Stop Interaction', toolbar_mouse_event);\n",
       "    buttongrp.append(button);\n",
       "    var titlebar = this.root.find($('.ui-dialog-titlebar'));\n",
       "    titlebar.prepend(buttongrp);\n",
       "}\n",
       "\n",
       "mpl.figure.prototype._root_extra_style = function(el){\n",
       "    var fig = this\n",
       "    el.on(\"remove\", function(){\n",
       "\tfig.close_ws(fig, {});\n",
       "    });\n",
       "}\n",
       "\n",
       "mpl.figure.prototype._canvas_extra_style = function(el){\n",
       "    // this is important to make the div 'focusable\n",
       "    el.attr('tabindex', 0)\n",
       "    // reach out to IPython and tell the keyboard manager to turn it's self\n",
       "    // off when our div gets focus\n",
       "\n",
       "    // location in version 3\n",
       "    if (IPython.notebook.keyboard_manager) {\n",
       "        IPython.notebook.keyboard_manager.register_events(el);\n",
       "    }\n",
       "    else {\n",
       "        // location in version 2\n",
       "        IPython.keyboard_manager.register_events(el);\n",
       "    }\n",
       "\n",
       "}\n",
       "\n",
       "mpl.figure.prototype._key_event_extra = function(event, name) {\n",
       "    var manager = IPython.notebook.keyboard_manager;\n",
       "    if (!manager)\n",
       "        manager = IPython.keyboard_manager;\n",
       "\n",
       "    // Check for shift+enter\n",
       "    if (event.shiftKey && event.which == 13) {\n",
       "        this.canvas_div.blur();\n",
       "        // select the cell after this one\n",
       "        var index = IPython.notebook.find_cell_index(this.cell_info[0]);\n",
       "        IPython.notebook.select(index + 1);\n",
       "    }\n",
       "}\n",
       "\n",
       "mpl.figure.prototype.handle_save = function(fig, msg) {\n",
       "    fig.ondownload(fig, null);\n",
       "}\n",
       "\n",
       "\n",
       "mpl.find_output_cell = function(html_output) {\n",
       "    // Return the cell and output element which can be found *uniquely* in the notebook.\n",
       "    // Note - this is a bit hacky, but it is done because the \"notebook_saving.Notebook\"\n",
       "    // IPython event is triggered only after the cells have been serialised, which for\n",
       "    // our purposes (turning an active figure into a static one), is too late.\n",
       "    var cells = IPython.notebook.get_cells();\n",
       "    var ncells = cells.length;\n",
       "    for (var i=0; i<ncells; i++) {\n",
       "        var cell = cells[i];\n",
       "        if (cell.cell_type === 'code'){\n",
       "            for (var j=0; j<cell.output_area.outputs.length; j++) {\n",
       "                var data = cell.output_area.outputs[j];\n",
       "                if (data.data) {\n",
       "                    // IPython >= 3 moved mimebundle to data attribute of output\n",
       "                    data = data.data;\n",
       "                }\n",
       "                if (data['text/html'] == html_output) {\n",
       "                    return [cell, data, j];\n",
       "                }\n",
       "            }\n",
       "        }\n",
       "    }\n",
       "}\n",
       "\n",
       "// Register the function which deals with the matplotlib target/channel.\n",
       "// The kernel may be null if the page has been refreshed.\n",
       "if (IPython.notebook.kernel != null) {\n",
       "    IPython.notebook.kernel.comm_manager.register_target('matplotlib', mpl.mpl_figure_comm);\n",
       "}\n"
      ],
      "text/plain": [
       "<IPython.core.display.Javascript object>"
      ]
     },
     "metadata": {},
     "output_type": "display_data"
    },
    {
     "data": {
      "text/html": [
       "<img src=\"data:image/png;base64,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\" width=\"640\">"
      ],
      "text/plain": [
       "<IPython.core.display.HTML object>"
      ]
     },
     "metadata": {},
     "output_type": "display_data"
    }
   ],
   "source": [
    "map_geo.plot(column='livability_score', legend=True, cmap='YlGn')\n",
    "\n",
    "plt.show()"
   ]
  },
  {
   "cell_type": "markdown",
   "metadata": {
    "hidden": true
   },
   "source": [
    "### Highest / Lowest Areas"
   ]
  },
  {
   "cell_type": "markdown",
   "metadata": {
    "hidden": true
   },
   "source": [
    "**Highest Score**\n",
    "\n",
    "![alt text](livability_highest.png \"DC Livability\")"
   ]
  },
  {
   "cell_type": "markdown",
   "metadata": {
    "hidden": true
   },
   "source": [
    "**Lowest Score**\n",
    "\n",
    "![alt text](livability_lowest.png \"DC Livability\")"
   ]
  },
  {
   "cell_type": "markdown",
   "metadata": {},
   "source": [
    "# Data Conception: Los Angeles Skyline"
   ]
  },
  {
   "cell_type": "markdown",
   "metadata": {},
   "source": [
    "## Prompt\n",
    "\n",
    "A major real estate website wants to know which of their property listings have a view of the Los Angeles skyline.\n",
    "How would you build a dataset to address this need? Walk us through the steps you would take:\n",
    "\n",
    "- What data do you need? (Broadly)\n",
    "- What does your process look like?\n",
    "- What would be needed to scale the dataset beyond Los Angeles?\n",
    "- What are the biggest challenges of creating this dataset?"
   ]
  },
  {
   "cell_type": "markdown",
   "metadata": {},
   "source": [
    "## Data Needs\n",
    "\n",
    "- Building footprints including height and elevation ([example](https://geohub.lacity.org/datasets/813fcefde1f64b209103107b26a8909f_0?geometry=-118.259%2C34.053%2C-118.231%2C34.060))\n",
    "- If the real-estate company has a specific area in mind for what they would consider the \"Los Angeles skyline\", a shape defining that area\n",
    "- For each of the real-estate company's properties, the height, elevation, number of floors, and which directions windows face"
   ]
  },
  {
   "cell_type": "markdown",
   "metadata": {},
   "source": [
    "## Process\n",
    "\n",
    "For each floor and view direction:\n",
    "1. Create a straight line starting at the \"observation point\" (elevation) and traveling through the top vertices of each of the buildings in the directions for which there are windows facing outward. We'll call these \"sight lines\".\n",
    "2. For each sight line, count the number of unique buildings it passes through. A simple rule is that if the lines passing through one building all pass through at least one additional building, it is not part of the skyline (where the building top and sky \"touch\" from the perspective of the viewer).\n",
    "3. Calculate the total number of buildings in the skyline from the perspective of the viewer. If there are zero buildings, it does not have a skyline view. If there are buildings in the skyline, apply a measure of magnitude (this perspective has an X% view of the skyline, etc).\n",
    "4. Create a building level skyline score based on overall visibility."
   ]
  },
  {
   "cell_type": "markdown",
   "metadata": {},
   "source": [
    "## Scaling the Analysis\n",
    "\n",
    "In order to scale this analysis to other cities, 3D building footprints and information about properties will be needed. In mountainous areas, a DEM may also be needed to estimate terrain visibility and/or places where terrain may obstruct the view of the built environment."
   ]
  },
  {
   "cell_type": "markdown",
   "metadata": {},
   "source": [
    "## Challenges\n",
    "\n",
    "While more and more data is being published by public agencies and the [open source community](https://osmbuildings.org/documentation/viewer/), data availability and quality information (accuracy, how current it is, etc) is an anticipated challenge. The analysis described would also rely on accurate and detailed data about properties. Without this information, best estimates will need to be made based on best available footprint information."
   ]
  }
 ],
 "metadata": {
  "kernelspec": {
   "display_name": "Python 2",
   "language": "python",
   "name": "python2"
  },
  "language_info": {
   "codemirror_mode": {
    "name": "ipython",
    "version": 3
   },
   "file_extension": ".py",
   "mimetype": "text/x-python",
   "name": "python",
   "nbconvert_exporter": "python",
   "pygments_lexer": "ipython3",
   "version": "3.9.0"
  },
  "toc": {
   "base_numbering": 1,
   "nav_menu": {},
   "number_sections": true,
   "sideBar": true,
   "skip_h1_title": false,
   "title_cell": "Table of Contents",
   "title_sidebar": "Contents",
   "toc_cell": false,
   "toc_position": {},
   "toc_section_display": true,
   "toc_window_display": false
  }
 },
 "nbformat": 4,
 "nbformat_minor": 2
}
