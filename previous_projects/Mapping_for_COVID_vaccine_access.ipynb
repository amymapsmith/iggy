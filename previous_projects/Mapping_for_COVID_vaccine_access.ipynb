{
 "cells": [
  {
   "cell_type": "markdown",
   "metadata": {},
   "source": [
    "# Mapping for COVID Vaccine Access Needs"
   ]
  },
  {
   "cell_type": "markdown",
   "metadata": {},
   "source": [
    "## Overview\n",
    "\n",
    "From [Without a Ride, Many in Need Have No Shot at COVID-19 Vaccine](https://www.pewtrusts.org/en/research-and-analysis/blogs/stateline/2021/02/01/without-a-ride-many-in-need-have-no-shot-at-covid-19-vaccine)\n",
    "\n",
    "\"While state and local governments have been busy planning for and distributing vaccines, many have left out an important piece: how to provide transportation to people who can’t get to those sites.\n",
    "\n",
    "Millions of older adults and low-income people of color who are at higher risk of contracting the virus don’t have cars, don’t drive or don’t live near public transit. Some are homebound. Some live in rural areas far from vaccination sites.\"\n",
    "\n"
   ]
  },
  {
   "cell_type": "markdown",
   "metadata": {},
   "source": [
    "## Import Libraries"
   ]
  },
  {
   "cell_type": "code",
   "execution_count": 2,
   "metadata": {},
   "outputs": [],
   "source": [
    "from census import Census\n",
    "from us import states\n",
    "import pandas as pd \n",
    "from sqlalchemy import create_engine\n",
    "import matplotlib.pyplot as plt\n",
    "import geopandas as gpd\n",
    "from shapely import wkt\n",
    "from mpl_toolkits.axes_grid1 import make_axes_locatable\n",
    "%matplotlib notebook"
   ]
  },
  {
   "cell_type": "code",
   "execution_count": 3,
   "metadata": {},
   "outputs": [],
   "source": [
    "engine = create_engine('postgresql://amy@localhost:5432/amy')\n",
    "c = Census(\"be588bd861cbf7e0545af372027fc4980855f07e\")"
   ]
  },
  {
   "cell_type": "markdown",
   "metadata": {},
   "source": [
    "## Data"
   ]
  },
  {
   "cell_type": "markdown",
   "metadata": {},
   "source": [
    "### Census"
   ]
  },
  {
   "cell_type": "markdown",
   "metadata": {},
   "source": [
    "#### Household Income"
   ]
  },
  {
   "cell_type": "code",
   "execution_count": null,
   "metadata": {},
   "outputs": [],
   "source": [
    "# Table B19013: Median Household Income\n",
    "# https://censusreporter.org/tables/B19013/\n",
    "\n",
    "hh_inc = pd.DataFrame.from_dict(c.acs5.get(('NAME', 'group(B19013)'),\n",
    "          {'for': 'tract:*',\n",
    "           'in': 'state:{} county:059'.format(states.GA.fips)}))\n",
    "\n",
    "hh_inc.head()"
   ]
  },
  {
   "cell_type": "code",
   "execution_count": null,
   "metadata": {},
   "outputs": [],
   "source": [
    "hh_inc.to_sql('cc_hh_inc_acs', con=engine, if_exists='replace')"
   ]
  },
  {
   "cell_type": "markdown",
   "metadata": {},
   "source": [
    "#### Age"
   ]
  },
  {
   "cell_type": "code",
   "execution_count": null,
   "metadata": {},
   "outputs": [],
   "source": [
    "# Table B01001: Sex by Age\n",
    "# https://www.socialexplorer.com/data/ACS2015_5yr/metadata/?ds=ACS15_5yr&table=B01001\n",
    "\n",
    "age = pd.DataFrame.from_dict(c.acs5.get(('NAME', 'group(B01001)'),\n",
    "          {'for': 'tract:*',\n",
    "           'in': 'state:{} county:059'.format(states.GA.fips)}))\n",
    "\n",
    "age.head()"
   ]
  },
  {
   "cell_type": "code",
   "execution_count": null,
   "metadata": {},
   "outputs": [],
   "source": [
    "age.to_sql('cc_age_acs', con=engine)"
   ]
  },
  {
   "cell_type": "markdown",
   "metadata": {},
   "source": [
    "#### Minority Population"
   ]
  },
  {
   "cell_type": "code",
   "execution_count": null,
   "metadata": {},
   "outputs": [],
   "source": [
    "# Table B02001: Race\n",
    "# https://www.socialexplorer.com/data/ACS2015/metadata/?ds=ACS15&table=B02001\n",
    "\n",
    "race = pd.DataFrame.from_dict(c.acs5.get(('NAME', 'group(B02001)'),\n",
    "          {'for': 'tract:*',\n",
    "           'in': 'state:{} county:059'.format(states.GA.fips)}))\n",
    "\n",
    "race.head()"
   ]
  },
  {
   "cell_type": "code",
   "execution_count": null,
   "metadata": {},
   "outputs": [],
   "source": [
    "race.to_sql('cc_race_acs', con=engine)"
   ]
  },
  {
   "cell_type": "markdown",
   "metadata": {},
   "source": [
    "### List of Inputs"
   ]
  },
  {
   "cell_type": "code",
   "execution_count": null,
   "metadata": {},
   "outputs": [],
   "source": [
    "hh_inc = 'cc_hh_inc_acs' # Median Household Income from the American Community Survey\n",
    "age = 'cc_age_acs'\n",
    "race = 'cc_race_acs'\n",
    "sld = 'cc_sld' # https://www.epa.gov/smartgrowth/smart-location-mapping#SLD"
   ]
  },
  {
   "cell_type": "markdown",
   "metadata": {},
   "source": [
    "### Compile Dataset"
   ]
  },
  {
   "cell_type": "code",
   "execution_count": 4,
   "metadata": {},
   "outputs": [
    {
     "data": {
      "text/plain": [
       "<sqlalchemy.engine.result.ResultProxy at 0x7fce494a0bb0>"
      ]
     },
     "execution_count": 4,
     "metadata": {},
     "output_type": "execute_result"
    }
   ],
   "source": [
    "query = \"\"\"\n",
    "    DROP TABLE IF EXISTS cc_transpo_needs;\n",
    "    CREATE TABLE cc_transpo_needs AS (\n",
    "        WITH hh_inc AS (\n",
    "            SELECT DISTINCT geoid10\n",
    "            , \"B19013_001E\" AS median_hh_inc\n",
    "            FROM cc_sld sld\n",
    "            JOIN cc_hh_inc_acs h ON h.tract = sld.trfips\n",
    "            WHERE 1=1\n",
    "            AND \"B19013_001E\" > 0\n",
    "        )\n",
    "        , age_tract AS (\n",
    "            SELECT DISTINCT tract\n",
    "            , \"B01001_001E\" as total_pop\n",
    "            , (\"B01001_020E\" + \"B01001_021E\" + \"B01001_022E\" + \"B01001_023E\" + \"B01001_024E\" + \"B01001_025E\" + \"B01001_044E\" + \"B01001_045E\" + \"B01001_046E\" + \"B01001_047E\" + \"B01001_048E\" + \"B01001_049E\") as above_65\n",
    "            , ((\"B01001_020E\" + \"B01001_021E\" + \"B01001_022E\" + \"B01001_023E\" + \"B01001_024E\" + \"B01001_025E\" + \"B01001_044E\" + \"B01001_045E\" + \"B01001_046E\" + \"B01001_047E\" + \"B01001_048E\" + \"B01001_049E\")::FLOAT/\"B01001_001E\")*100 as perc_65_above\n",
    "            from cc_age_acs\n",
    "            WHERE 1=1\n",
    "            AND \"B01001_001E\" > 0\n",
    "            ORDER BY 1\n",
    "        )\n",
    "        , age AS (\n",
    "            SELECT DISTINCT geoid10\n",
    "            , perc_65_above \n",
    "            FROM cc_sld sld\n",
    "            JOIN age_tract at ON at.tract = sld.trfips\n",
    "            WHERE 1=1\n",
    "        )\n",
    "        , race_tract AS (\n",
    "            SELECT DISTINCT tract\n",
    "            , \"B02001_001E\" as total_pop\n",
    "            , (\"B02001_001E\" - \"B02001_002E\") as non_white\n",
    "            , ((\"B02001_001E\" - \"B02001_002E\")::FLOAT/\"B02001_001E\")*100 as perc_non_white\n",
    "            from cc_race_acs\n",
    "            WHERE 1=1\n",
    "            AND \"B02001_001E\" > 0\n",
    "            ORDER BY 1\n",
    "        )\n",
    "        , race AS (\n",
    "            SELECT DISTINCT geoid10\n",
    "            , perc_non_white \n",
    "            FROM cc_sld sld\n",
    "            JOIN race_tract rt ON rt.tract = sld.trfips\n",
    "            WHERE 1=1\n",
    "        )\n",
    "        SELECT DISTINCT\n",
    "        -- General\n",
    "        sld.geoid10\n",
    "        , sld.geom\n",
    "        , sld.ac_land AS land_area\n",
    "        , sld.d1b AS pop_density\n",
    "        \n",
    "        -- Demographic\n",
    "        , median_hh_inc\n",
    "        , perc_65_above \n",
    "        , perc_non_white\n",
    "        \n",
    "        -- Transportation\n",
    "        , d4a AS dist_to_transit\n",
    "        , d4d AS transit_freq\n",
    "        \n",
    "        FROM cc_sld sld \n",
    "        LEFT JOIN hh_inc h ON h.geoid10 = sld.geoid10\n",
    "        LEFT JOIN age a ON a.geoid10 = sld.geoid10\n",
    "        LEFT JOIN race r ON r.geoid10 = sld.geoid10\n",
    "        \n",
    "        WHERE 1=1\n",
    "    );\n",
    "\"\"\"\n",
    "\n",
    "engine.execute(query)"
   ]
  },
  {
   "cell_type": "markdown",
   "metadata": {},
   "source": [
    "## Index"
   ]
  },
  {
   "cell_type": "code",
   "execution_count": 5,
   "metadata": {},
   "outputs": [
    {
     "data": {
      "text/plain": [
       "<sqlalchemy.engine.result.ResultProxy at 0x7fce494a0520>"
      ]
     },
     "execution_count": 5,
     "metadata": {},
     "output_type": "execute_result"
    }
   ],
   "source": [
    "# Add Percentiles\n",
    "\n",
    "query = \"\"\"\n",
    "    ALTER TABLE cc_transpo_needs ADD COLUMN hh_inc_ntile FLOAT;\n",
    "    ALTER TABLE cc_transpo_needs ADD COLUMN age_ntile FLOAT;\n",
    "    ALTER TABLE cc_transpo_needs ADD COLUMN race_ntile FLOAT;\n",
    "    ALTER TABLE cc_transpo_needs ADD COLUMN density_ntile FLOAT;\n",
    "    ALTER TABLE cc_transpo_needs ADD COLUMN transit_dist_ntile FLOAT;\n",
    "    ALTER TABLE cc_transpo_needs ADD COLUMN transit_freq_ntile FLOAT;\n",
    "\n",
    "    WITH percentiles AS (\n",
    "        SELECT geoid10\n",
    "        , PERCENT_RANK() OVER (ORDER BY median_hh_inc DESC) AS hh_inc_ntile\n",
    "        , PERCENT_RANK() OVER (ORDER BY perc_65_above) AS age_ntile\n",
    "        , PERCENT_RANK() OVER (ORDER BY perc_non_white) AS race_ntile\n",
    "        , PERCENT_RANK() OVER (ORDER BY pop_density DESC) AS density_ntile\n",
    "        , PERCENT_RANK() OVER (ORDER BY dist_to_transit) AS transit_dist_ntile\n",
    "        , PERCENT_RANK() OVER (ORDER BY transit_freq DESC) AS transit_freq_ntile\n",
    "        FROM cc_transpo_needs\n",
    "        WHERE 1=1\n",
    "    )\n",
    "    UPDATE cc_transpo_needs AS l\n",
    "    SET hh_inc_ntile = p.hh_inc_ntile\n",
    "    , age_ntile = p.age_ntile\n",
    "    , race_ntile = p.race_ntile\n",
    "    , density_ntile = p.density_ntile\n",
    "    , transit_dist_ntile = p.transit_dist_ntile\n",
    "    , transit_freq_ntile = p.transit_freq_ntile\n",
    "    FROM percentiles p \n",
    "    WHERE 1=1\n",
    "    AND p.geoid10 = l.geoid10\n",
    "    ;\n",
    "\"\"\"\n",
    "\n",
    "engine.execute(query)"
   ]
  },
  {
   "cell_type": "code",
   "execution_count": 6,
   "metadata": {},
   "outputs": [
    {
     "data": {
      "text/plain": [
       "<sqlalchemy.engine.result.ResultProxy at 0x7fce49478bb0>"
      ]
     },
     "execution_count": 6,
     "metadata": {},
     "output_type": "execute_result"
    }
   ],
   "source": [
    "# Index\n",
    "\n",
    "query = \"\"\"\n",
    "    ALTER TABLE cc_transpo_needs ADD COLUMN transpo_needs_score FLOAT;\n",
    "    UPDATE cc_transpo_needs \n",
    "    SET transpo_needs_score = (hh_inc_ntile + age_ntile + race_ntile + density_ntile + \n",
    "                                transit_dist_ntile + transit_freq_ntile)/6\n",
    "    ;\n",
    "\"\"\"\n",
    "\n",
    "engine.execute(query)"
   ]
  }
 ],
 "metadata": {
  "kernelspec": {
   "display_name": "Python 2",
   "language": "python",
   "name": "python2"
  },
  "language_info": {
   "codemirror_mode": {
    "name": "ipython",
    "version": 3
   },
   "file_extension": ".py",
   "mimetype": "text/x-python",
   "name": "python",
   "nbconvert_exporter": "python",
   "pygments_lexer": "ipython3",
   "version": "3.9.0"
  },
  "toc": {
   "base_numbering": 1,
   "nav_menu": {},
   "number_sections": true,
   "sideBar": true,
   "skip_h1_title": false,
   "title_cell": "Table of Contents",
   "title_sidebar": "Contents",
   "toc_cell": false,
   "toc_position": {},
   "toc_section_display": true,
   "toc_window_display": false
  }
 },
 "nbformat": 4,
 "nbformat_minor": 2
}
